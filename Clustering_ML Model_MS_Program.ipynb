{
 "cells": [
  {
   "cell_type": "code",
   "execution_count": 129,
   "id": "001f2a30",
   "metadata": {},
   "outputs": [],
   "source": [
    "import numpy as np\n",
    "import pandas as pd\n",
    "import matplotlib.pyplot as plt\n",
    "import sklearn\n",
    "from sklearn.cluster import KMeans\n",
    "from sklearn.preprocessing import MinMaxScaler\n",
    "from sklearn.model_selection import train_test_split\n",
    "from sklearn.ensemble import RandomForestClassifier\n",
    "from sklearn.metrics import accuracy_score, confusion_matrix, classification_report"
   ]
  },
  {
   "cell_type": "code",
   "execution_count": 130,
   "id": "d50c61ec",
   "metadata": {},
   "outputs": [],
   "source": [
    "pd.set_option('display.max_rows', 500)\n",
    "pd.set_option('display.max_columns', 500)\n",
    "pd.set_option('display.width', 1000)"
   ]
  },
  {
   "cell_type": "code",
   "execution_count": 131,
   "id": "66cbd823",
   "metadata": {},
   "outputs": [],
   "source": [
    "df = pd.read_csv('MergedOutput_final.csv')"
   ]
  },
  {
   "cell_type": "code",
   "execution_count": 132,
   "id": "753f162c",
   "metadata": {},
   "outputs": [
    {
     "name": "stdout",
     "output_type": "stream",
     "text": [
      "(296, 41)\n"
     ]
    },
    {
     "data": {
      "text/html": [
       "<div>\n",
       "<style scoped>\n",
       "    .dataframe tbody tr th:only-of-type {\n",
       "        vertical-align: middle;\n",
       "    }\n",
       "\n",
       "    .dataframe tbody tr th {\n",
       "        vertical-align: top;\n",
       "    }\n",
       "\n",
       "    .dataframe thead th {\n",
       "        text-align: right;\n",
       "    }\n",
       "</style>\n",
       "<table border=\"1\" class=\"dataframe\">\n",
       "  <thead>\n",
       "    <tr style=\"text-align: right;\">\n",
       "      <th></th>\n",
       "      <th>Ref</th>\n",
       "      <th>Age</th>\n",
       "      <th>Sex</th>\n",
       "      <th>Hispanic</th>\n",
       "      <th>Race</th>\n",
       "      <th>CitizenshipStatus</th>\n",
       "      <th>PrimaryCitizenship</th>\n",
       "      <th>UGDegreeConvertedGPA</th>\n",
       "      <th>UGDegreeType</th>\n",
       "      <th>UGDegreeMajorType</th>\n",
       "      <th>UGDegreeSchoolTranscriptSubmitted?</th>\n",
       "      <th>EmailsOpenedinPast60Days</th>\n",
       "      <th>EmailsClickedinPast60Days</th>\n",
       "      <th>English_Score</th>\n",
       "      <th>Analytical_Score</th>\n",
       "      <th>InquiryMadeInd</th>\n",
       "      <th>Ping-TotalCount</th>\n",
       "      <th>ApplicationSlateID</th>\n",
       "      <th>HUB66:EntryTermadmit_term</th>\n",
       "      <th>App_TurnAroundTime</th>\n",
       "      <th>GDegreeConvertedGPA</th>\n",
       "      <th>GDegree_ind</th>\n",
       "      <th>GDegreeSchoolTranscriptSubmitted?</th>\n",
       "      <th>AppForm:Auto-AdmitConfirmEligibilityYes/No</th>\n",
       "      <th>AppForm:Auto-AdmitProcessingCompleteYes/No</th>\n",
       "      <th>AppForm:GMAT/GREStandardizedTestWaiverOptInY/N(NotPMBA)</th>\n",
       "      <th>IntentToEnroll</th>\n",
       "      <th>InterestedTrack</th>\n",
       "      <th>OtherInstitutionsApplied?</th>\n",
       "      <th>OtherUBProgramApplied?</th>\n",
       "      <th>Pre-EnrollmentSalaryRange</th>\n",
       "      <th>AppForm:PreviousUBEnrollmentProgram</th>\n",
       "      <th>StandardizedTestWaived(ReaderIndicator)</th>\n",
       "      <th>Events_NoShow</th>\n",
       "      <th>Events_Attended</th>\n",
       "      <th>Events_Registered</th>\n",
       "      <th>Events_Cancelled</th>\n",
       "      <th>Events_Pending</th>\n",
       "      <th>Positive_Interaction_count</th>\n",
       "      <th>Negative_Interaction_count</th>\n",
       "      <th>Grades_CumulativeGPA</th>\n",
       "    </tr>\n",
       "  </thead>\n",
       "  <tbody>\n",
       "    <tr>\n",
       "      <th>0</th>\n",
       "      <td>367568860</td>\n",
       "      <td>27</td>\n",
       "      <td>F</td>\n",
       "      <td>No</td>\n",
       "      <td>Asian</td>\n",
       "      <td>Foreign National</td>\n",
       "      <td>India</td>\n",
       "      <td>3.5280</td>\n",
       "      <td>Bachelor</td>\n",
       "      <td>Engineering</td>\n",
       "      <td>1</td>\n",
       "      <td>0</td>\n",
       "      <td>0</td>\n",
       "      <td>81</td>\n",
       "      <td>91</td>\n",
       "      <td>1</td>\n",
       "      <td>749</td>\n",
       "      <td>443558582</td>\n",
       "      <td>Fall 2021</td>\n",
       "      <td>0</td>\n",
       "      <td>NaN</td>\n",
       "      <td>0</td>\n",
       "      <td>0</td>\n",
       "      <td>0</td>\n",
       "      <td>0</td>\n",
       "      <td>0</td>\n",
       "      <td>Determined</td>\n",
       "      <td>Unsure</td>\n",
       "      <td>Unknown</td>\n",
       "      <td>Unknown</td>\n",
       "      <td>Unknown</td>\n",
       "      <td>Unknown</td>\n",
       "      <td>0</td>\n",
       "      <td>4</td>\n",
       "      <td>5</td>\n",
       "      <td>19</td>\n",
       "      <td>0</td>\n",
       "      <td>0</td>\n",
       "      <td>4</td>\n",
       "      <td>0</td>\n",
       "      <td>3.751</td>\n",
       "    </tr>\n",
       "    <tr>\n",
       "      <th>1</th>\n",
       "      <td>505374298</td>\n",
       "      <td>30</td>\n",
       "      <td>F</td>\n",
       "      <td>No</td>\n",
       "      <td>Asian</td>\n",
       "      <td>Foreign National</td>\n",
       "      <td>India</td>\n",
       "      <td>3.0400</td>\n",
       "      <td>Bachelor</td>\n",
       "      <td>Engineering</td>\n",
       "      <td>1</td>\n",
       "      <td>0</td>\n",
       "      <td>0</td>\n",
       "      <td>90</td>\n",
       "      <td>92</td>\n",
       "      <td>1</td>\n",
       "      <td>1133</td>\n",
       "      <td>391066974</td>\n",
       "      <td>Spring 2021</td>\n",
       "      <td>0</td>\n",
       "      <td>NaN</td>\n",
       "      <td>0</td>\n",
       "      <td>0</td>\n",
       "      <td>0</td>\n",
       "      <td>0</td>\n",
       "      <td>0</td>\n",
       "      <td>Determined</td>\n",
       "      <td>Information Systems Track</td>\n",
       "      <td>Unknown</td>\n",
       "      <td>Unknown</td>\n",
       "      <td>Unknown</td>\n",
       "      <td>Unknown</td>\n",
       "      <td>0</td>\n",
       "      <td>1</td>\n",
       "      <td>4</td>\n",
       "      <td>26</td>\n",
       "      <td>1</td>\n",
       "      <td>0</td>\n",
       "      <td>1</td>\n",
       "      <td>0</td>\n",
       "      <td>3.973</td>\n",
       "    </tr>\n",
       "    <tr>\n",
       "      <th>2</th>\n",
       "      <td>97640048</td>\n",
       "      <td>25</td>\n",
       "      <td>M</td>\n",
       "      <td>No</td>\n",
       "      <td>Asian</td>\n",
       "      <td>Foreign National</td>\n",
       "      <td>India</td>\n",
       "      <td>3.9440</td>\n",
       "      <td>Bachelor</td>\n",
       "      <td>Engineering</td>\n",
       "      <td>1</td>\n",
       "      <td>0</td>\n",
       "      <td>0</td>\n",
       "      <td>83</td>\n",
       "      <td>89</td>\n",
       "      <td>0</td>\n",
       "      <td>2209</td>\n",
       "      <td>501505777</td>\n",
       "      <td>Fall 2021</td>\n",
       "      <td>23</td>\n",
       "      <td>NaN</td>\n",
       "      <td>0</td>\n",
       "      <td>0</td>\n",
       "      <td>0</td>\n",
       "      <td>0</td>\n",
       "      <td>0</td>\n",
       "      <td>UnSure</td>\n",
       "      <td>Unsure</td>\n",
       "      <td>1</td>\n",
       "      <td>Unknown</td>\n",
       "      <td>Unknown</td>\n",
       "      <td>Unknown</td>\n",
       "      <td>0</td>\n",
       "      <td>0</td>\n",
       "      <td>7</td>\n",
       "      <td>16</td>\n",
       "      <td>0</td>\n",
       "      <td>0</td>\n",
       "      <td>0</td>\n",
       "      <td>0</td>\n",
       "      <td>3.917</td>\n",
       "    </tr>\n",
       "    <tr>\n",
       "      <th>3</th>\n",
       "      <td>249754073</td>\n",
       "      <td>28</td>\n",
       "      <td>M</td>\n",
       "      <td>No</td>\n",
       "      <td>Asian</td>\n",
       "      <td>Foreign National</td>\n",
       "      <td>India</td>\n",
       "      <td>2.9968</td>\n",
       "      <td>Bachelor</td>\n",
       "      <td>Engineering</td>\n",
       "      <td>1</td>\n",
       "      <td>0</td>\n",
       "      <td>0</td>\n",
       "      <td>74</td>\n",
       "      <td>0</td>\n",
       "      <td>0</td>\n",
       "      <td>626</td>\n",
       "      <td>496793846</td>\n",
       "      <td>Fall 2021</td>\n",
       "      <td>15</td>\n",
       "      <td>NaN</td>\n",
       "      <td>0</td>\n",
       "      <td>0</td>\n",
       "      <td>0</td>\n",
       "      <td>0</td>\n",
       "      <td>1</td>\n",
       "      <td>Determined</td>\n",
       "      <td>Unsure</td>\n",
       "      <td>Unknown</td>\n",
       "      <td>Unknown</td>\n",
       "      <td>Unknown</td>\n",
       "      <td>Unknown</td>\n",
       "      <td>1</td>\n",
       "      <td>1</td>\n",
       "      <td>2</td>\n",
       "      <td>16</td>\n",
       "      <td>0</td>\n",
       "      <td>0</td>\n",
       "      <td>0</td>\n",
       "      <td>0</td>\n",
       "      <td>3.890</td>\n",
       "    </tr>\n",
       "    <tr>\n",
       "      <th>4</th>\n",
       "      <td>943575643</td>\n",
       "      <td>24</td>\n",
       "      <td>M</td>\n",
       "      <td>No</td>\n",
       "      <td>Asian</td>\n",
       "      <td>Foreign National</td>\n",
       "      <td>India</td>\n",
       "      <td>3.7000</td>\n",
       "      <td>Bachelor</td>\n",
       "      <td>Engineering</td>\n",
       "      <td>1</td>\n",
       "      <td>1</td>\n",
       "      <td>0</td>\n",
       "      <td>79</td>\n",
       "      <td>91</td>\n",
       "      <td>0</td>\n",
       "      <td>790</td>\n",
       "      <td>571842232</td>\n",
       "      <td>Fall 2021</td>\n",
       "      <td>0</td>\n",
       "      <td>NaN</td>\n",
       "      <td>0</td>\n",
       "      <td>0</td>\n",
       "      <td>0</td>\n",
       "      <td>0</td>\n",
       "      <td>0</td>\n",
       "      <td>UnSure</td>\n",
       "      <td>Unsure</td>\n",
       "      <td>Unknown</td>\n",
       "      <td>Unknown</td>\n",
       "      <td>Unknown</td>\n",
       "      <td>Unknown</td>\n",
       "      <td>0</td>\n",
       "      <td>0</td>\n",
       "      <td>2</td>\n",
       "      <td>32</td>\n",
       "      <td>3</td>\n",
       "      <td>0</td>\n",
       "      <td>0</td>\n",
       "      <td>0</td>\n",
       "      <td>3.723</td>\n",
       "    </tr>\n",
       "  </tbody>\n",
       "</table>\n",
       "</div>"
      ],
      "text/plain": [
       "         Ref  Age Sex Hispanic   Race CitizenshipStatus PrimaryCitizenship  UGDegreeConvertedGPA UGDegreeType UGDegreeMajorType  UGDegreeSchoolTranscriptSubmitted?  EmailsOpenedinPast60Days  EmailsClickedinPast60Days  English_Score  Analytical_Score  InquiryMadeInd  Ping-TotalCount  ApplicationSlateID HUB66:EntryTermadmit_term  App_TurnAroundTime  GDegreeConvertedGPA  GDegree_ind  GDegreeSchoolTranscriptSubmitted?  AppForm:Auto-AdmitConfirmEligibilityYes/No  AppForm:Auto-AdmitProcessingCompleteYes/No  AppForm:GMAT/GREStandardizedTestWaiverOptInY/N(NotPMBA) IntentToEnroll            InterestedTrack OtherInstitutionsApplied? OtherUBProgramApplied? Pre-EnrollmentSalaryRange AppForm:PreviousUBEnrollmentProgram  StandardizedTestWaived(ReaderIndicator)  Events_NoShow  Events_Attended  Events_Registered  Events_Cancelled  Events_Pending  Positive_Interaction_count  Negative_Interaction_count  Grades_CumulativeGPA\n",
       "0  367568860   27   F       No  Asian  Foreign National              India                3.5280     Bachelor       Engineering                                   1                         0                          0             81                91               1              749           443558582                 Fall 2021                   0                  NaN            0                                  0                                           0                                           0                                                  0           Determined                     Unsure                   Unknown                Unknown                   Unknown                             Unknown                                        0              4                5                 19                 0               0                           4                           0                 3.751\n",
       "1  505374298   30   F       No  Asian  Foreign National              India                3.0400     Bachelor       Engineering                                   1                         0                          0             90                92               1             1133           391066974               Spring 2021                   0                  NaN            0                                  0                                           0                                           0                                                  0           Determined  Information Systems Track                   Unknown                Unknown                   Unknown                             Unknown                                        0              1                4                 26                 1               0                           1                           0                 3.973\n",
       "2   97640048   25   M       No  Asian  Foreign National              India                3.9440     Bachelor       Engineering                                   1                         0                          0             83                89               0             2209           501505777                 Fall 2021                  23                  NaN            0                                  0                                           0                                           0                                                  0               UnSure                     Unsure                         1                Unknown                   Unknown                             Unknown                                        0              0                7                 16                 0               0                           0                           0                 3.917\n",
       "3  249754073   28   M       No  Asian  Foreign National              India                2.9968     Bachelor       Engineering                                   1                         0                          0             74                 0               0              626           496793846                 Fall 2021                  15                  NaN            0                                  0                                           0                                           0                                                  1           Determined                     Unsure                   Unknown                Unknown                   Unknown                             Unknown                                        1              1                2                 16                 0               0                           0                           0                 3.890\n",
       "4  943575643   24   M       No  Asian  Foreign National              India                3.7000     Bachelor       Engineering                                   1                         1                          0             79                91               0              790           571842232                 Fall 2021                   0                  NaN            0                                  0                                           0                                           0                                                  0               UnSure                     Unsure                   Unknown                Unknown                   Unknown                             Unknown                                        0              0                2                 32                 3               0                           0                           0                 3.723"
      ]
     },
     "execution_count": 132,
     "metadata": {},
     "output_type": "execute_result"
    }
   ],
   "source": [
    "print(df.shape)\n",
    "df.head()"
   ]
  },
  {
   "cell_type": "code",
   "execution_count": 133,
   "id": "41eb76ca",
   "metadata": {},
   "outputs": [
    {
     "data": {
      "text/plain": [
       "['Ref',\n",
       " 'Age',\n",
       " 'Sex',\n",
       " 'Hispanic',\n",
       " 'Race',\n",
       " 'CitizenshipStatus',\n",
       " 'PrimaryCitizenship',\n",
       " 'UGDegreeConvertedGPA',\n",
       " 'UGDegreeType',\n",
       " 'UGDegreeMajorType',\n",
       " 'UGDegreeSchoolTranscriptSubmitted?',\n",
       " 'EmailsOpenedinPast60Days',\n",
       " 'EmailsClickedinPast60Days',\n",
       " 'English_Score',\n",
       " 'Analytical_Score',\n",
       " 'InquiryMadeInd',\n",
       " 'Ping-TotalCount',\n",
       " 'ApplicationSlateID',\n",
       " 'HUB66:EntryTermadmit_term',\n",
       " 'App_TurnAroundTime',\n",
       " 'GDegreeConvertedGPA',\n",
       " 'GDegree_ind',\n",
       " 'GDegreeSchoolTranscriptSubmitted?',\n",
       " 'AppForm:Auto-AdmitConfirmEligibilityYes/No',\n",
       " 'AppForm:Auto-AdmitProcessingCompleteYes/No',\n",
       " 'AppForm:GMAT/GREStandardizedTestWaiverOptInY/N(NotPMBA)',\n",
       " 'IntentToEnroll',\n",
       " 'InterestedTrack',\n",
       " 'OtherInstitutionsApplied?',\n",
       " 'OtherUBProgramApplied?',\n",
       " 'Pre-EnrollmentSalaryRange',\n",
       " 'AppForm:PreviousUBEnrollmentProgram',\n",
       " 'StandardizedTestWaived(ReaderIndicator)',\n",
       " 'Events_NoShow',\n",
       " 'Events_Attended',\n",
       " 'Events_Registered',\n",
       " 'Events_Cancelled',\n",
       " 'Events_Pending',\n",
       " 'Positive_Interaction_count',\n",
       " 'Negative_Interaction_count',\n",
       " 'Grades_CumulativeGPA']"
      ]
     },
     "execution_count": 133,
     "metadata": {},
     "output_type": "execute_result"
    }
   ],
   "source": [
    "column_names = df.columns.tolist()\n",
    "\n",
    "column_names"
   ]
  },
  {
   "cell_type": "code",
   "execution_count": 134,
   "id": "f1c3eef1",
   "metadata": {},
   "outputs": [],
   "source": [
    "#selecting only the important columns that we understood from feature importances \n",
    "df1 = df[[\n",
    "#'Ref',\n",
    "#'Age',\n",
    "'Sex',\n",
    "#'Hispanic',\n",
    "#'Race',\n",
    "#'CitizenshipStatus',\n",
    "'PrimaryCitizenship',\n",
    "'UGDegreeConvertedGPA',\n",
    "#'UGDegreeType',\n",
    "#'UGDegreeMajorType',\n",
    "#'UGDegreeSchoolTranscriptSubmitted?',\n",
    "#'EmailsOpenedinPast60Days',\n",
    "#'EmailsClickedinPast60Days',\n",
    "'English_Score',\n",
    "'Analytical_Score',\n",
    "#'InquiryMadeInd',\n",
    "'Ping-TotalCount',\n",
    "#'ApplicationSlateID',\n",
    "#'HUB66:EntryTermadmit_term',\n",
    "#'App_TurnAroundTime',\n",
    "#'GDegreeConvertedGPA',\n",
    "#'GDegree_ind',\n",
    "#'GDegreeSchoolTranscriptSubmitted?',\n",
    "#'AppForm:Auto-AdmitConfirmEligibilityYes/No',\n",
    "#'AppForm:Auto-AdmitProcessingCompleteYes/No',\n",
    "#'AppForm:GMAT/GREStandardizedTestWaiverOptInY/N(NotPMBA)',\n",
    "'IntentToEnroll',\n",
    "#'InterestedTrack',\n",
    "#'OtherInstitutionsApplied?',\n",
    "#'OtherUBProgramApplied?',\n",
    "#'Pre-EnrollmentSalaryRange',\n",
    "#'AppForm:PreviousUBEnrollmentProgram',\n",
    "'StandardizedTestWaived(ReaderIndicator)',\n",
    "#'Events_NoShow',\n",
    "'Events_Attended',\n",
    "'Events_Registered',\n",
    "#'Events_Cancelled',\n",
    "#'Events_Pending',\n",
    "#'Positive_Interaction_count',\n",
    "#'Negative_Interaction_count',\n",
    "'Grades_CumulativeGPA'\n",
    "]]"
   ]
  },
  {
   "cell_type": "code",
   "execution_count": 135,
   "id": "900b9ab9",
   "metadata": {},
   "outputs": [
    {
     "data": {
      "text/plain": [
       "Sex                                         0\n",
       "PrimaryCitizenship                          0\n",
       "UGDegreeConvertedGPA                       24\n",
       "English_Score                               0\n",
       "Analytical_Score                            0\n",
       "Ping-TotalCount                             0\n",
       "IntentToEnroll                              0\n",
       "StandardizedTestWaived(ReaderIndicator)     0\n",
       "Events_Attended                             0\n",
       "Events_Registered                           0\n",
       "Grades_CumulativeGPA                        0\n",
       "dtype: int64"
      ]
     },
     "execution_count": 135,
     "metadata": {},
     "output_type": "execute_result"
    }
   ],
   "source": [
    "df1.isnull().sum()"
   ]
  },
  {
   "cell_type": "code",
   "execution_count": 136,
   "id": "9323c97a",
   "metadata": {},
   "outputs": [
    {
     "data": {
      "text/plain": [
       "Sex                                         object\n",
       "PrimaryCitizenship                          object\n",
       "UGDegreeConvertedGPA                       float64\n",
       "English_Score                                int64\n",
       "Analytical_Score                             int64\n",
       "Ping-TotalCount                              int64\n",
       "IntentToEnroll                              object\n",
       "StandardizedTestWaived(ReaderIndicator)      int64\n",
       "Events_Attended                              int64\n",
       "Events_Registered                            int64\n",
       "Grades_CumulativeGPA                       float64\n",
       "dtype: object"
      ]
     },
     "execution_count": 136,
     "metadata": {},
     "output_type": "execute_result"
    }
   ],
   "source": [
    "df1.dtypes"
   ]
  },
  {
   "cell_type": "code",
   "execution_count": 137,
   "id": "305dfbb0",
   "metadata": {},
   "outputs": [
    {
     "data": {
      "text/plain": [
       "3.03051548161765"
      ]
     },
     "execution_count": 137,
     "metadata": {},
     "output_type": "execute_result"
    }
   ],
   "source": [
    "df1['UGDegreeConvertedGPA'].mean()"
   ]
  },
  {
   "cell_type": "code",
   "execution_count": 138,
   "id": "f58e0b2d",
   "metadata": {},
   "outputs": [
    {
     "data": {
      "text/plain": [
       "Sex                                        0\n",
       "PrimaryCitizenship                         0\n",
       "UGDegreeConvertedGPA                       0\n",
       "English_Score                              0\n",
       "Analytical_Score                           0\n",
       "Ping-TotalCount                            0\n",
       "IntentToEnroll                             0\n",
       "StandardizedTestWaived(ReaderIndicator)    0\n",
       "Events_Attended                            0\n",
       "Events_Registered                          0\n",
       "Grades_CumulativeGPA                       0\n",
       "dtype: int64"
      ]
     },
     "execution_count": 138,
     "metadata": {},
     "output_type": "execute_result"
    }
   ],
   "source": [
    "#impute null values of UGDegreeConvertedGPA with its mean\n",
    "df1 = df1.fillna(value = {'UGDegreeConvertedGPA': df['UGDegreeConvertedGPA'].mean()})\n",
    "df1.isnull().sum()"
   ]
  },
  {
   "cell_type": "code",
   "execution_count": 139,
   "id": "95c7f223",
   "metadata": {},
   "outputs": [],
   "source": [
    "# one-hot encode categorical variables\n",
    "df2 = pd.get_dummies(df1, drop_first=True)"
   ]
  },
  {
   "cell_type": "code",
   "execution_count": 140,
   "id": "ceea253e",
   "metadata": {},
   "outputs": [
    {
     "data": {
      "text/html": [
       "<div>\n",
       "<style scoped>\n",
       "    .dataframe tbody tr th:only-of-type {\n",
       "        vertical-align: middle;\n",
       "    }\n",
       "\n",
       "    .dataframe tbody tr th {\n",
       "        vertical-align: top;\n",
       "    }\n",
       "\n",
       "    .dataframe thead th {\n",
       "        text-align: right;\n",
       "    }\n",
       "</style>\n",
       "<table border=\"1\" class=\"dataframe\">\n",
       "  <thead>\n",
       "    <tr style=\"text-align: right;\">\n",
       "      <th></th>\n",
       "      <th>UGDegreeConvertedGPA</th>\n",
       "      <th>English_Score</th>\n",
       "      <th>Analytical_Score</th>\n",
       "      <th>Ping-TotalCount</th>\n",
       "      <th>StandardizedTestWaived(ReaderIndicator)</th>\n",
       "      <th>Events_Attended</th>\n",
       "      <th>Events_Registered</th>\n",
       "      <th>Grades_CumulativeGPA</th>\n",
       "      <th>Sex_M</th>\n",
       "      <th>PrimaryCitizenship_India</th>\n",
       "      <th>PrimaryCitizenship_Jordan</th>\n",
       "      <th>PrimaryCitizenship_Nigeria</th>\n",
       "      <th>PrimaryCitizenship_South Korea</th>\n",
       "      <th>PrimaryCitizenship_Taiwan</th>\n",
       "      <th>PrimaryCitizenship_United States</th>\n",
       "      <th>PrimaryCitizenship_Vietnam</th>\n",
       "      <th>IntentToEnroll_Determined</th>\n",
       "      <th>IntentToEnroll_UnSure</th>\n",
       "    </tr>\n",
       "  </thead>\n",
       "  <tbody>\n",
       "    <tr>\n",
       "      <th>0</th>\n",
       "      <td>3.5280</td>\n",
       "      <td>81</td>\n",
       "      <td>91</td>\n",
       "      <td>749</td>\n",
       "      <td>0</td>\n",
       "      <td>5</td>\n",
       "      <td>19</td>\n",
       "      <td>3.751</td>\n",
       "      <td>0</td>\n",
       "      <td>1</td>\n",
       "      <td>0</td>\n",
       "      <td>0</td>\n",
       "      <td>0</td>\n",
       "      <td>0</td>\n",
       "      <td>0</td>\n",
       "      <td>0</td>\n",
       "      <td>1</td>\n",
       "      <td>0</td>\n",
       "    </tr>\n",
       "    <tr>\n",
       "      <th>1</th>\n",
       "      <td>3.0400</td>\n",
       "      <td>90</td>\n",
       "      <td>92</td>\n",
       "      <td>1133</td>\n",
       "      <td>0</td>\n",
       "      <td>4</td>\n",
       "      <td>26</td>\n",
       "      <td>3.973</td>\n",
       "      <td>0</td>\n",
       "      <td>1</td>\n",
       "      <td>0</td>\n",
       "      <td>0</td>\n",
       "      <td>0</td>\n",
       "      <td>0</td>\n",
       "      <td>0</td>\n",
       "      <td>0</td>\n",
       "      <td>1</td>\n",
       "      <td>0</td>\n",
       "    </tr>\n",
       "    <tr>\n",
       "      <th>2</th>\n",
       "      <td>3.9440</td>\n",
       "      <td>83</td>\n",
       "      <td>89</td>\n",
       "      <td>2209</td>\n",
       "      <td>0</td>\n",
       "      <td>7</td>\n",
       "      <td>16</td>\n",
       "      <td>3.917</td>\n",
       "      <td>1</td>\n",
       "      <td>1</td>\n",
       "      <td>0</td>\n",
       "      <td>0</td>\n",
       "      <td>0</td>\n",
       "      <td>0</td>\n",
       "      <td>0</td>\n",
       "      <td>0</td>\n",
       "      <td>0</td>\n",
       "      <td>1</td>\n",
       "    </tr>\n",
       "    <tr>\n",
       "      <th>3</th>\n",
       "      <td>2.9968</td>\n",
       "      <td>74</td>\n",
       "      <td>0</td>\n",
       "      <td>626</td>\n",
       "      <td>1</td>\n",
       "      <td>2</td>\n",
       "      <td>16</td>\n",
       "      <td>3.890</td>\n",
       "      <td>1</td>\n",
       "      <td>1</td>\n",
       "      <td>0</td>\n",
       "      <td>0</td>\n",
       "      <td>0</td>\n",
       "      <td>0</td>\n",
       "      <td>0</td>\n",
       "      <td>0</td>\n",
       "      <td>1</td>\n",
       "      <td>0</td>\n",
       "    </tr>\n",
       "    <tr>\n",
       "      <th>4</th>\n",
       "      <td>3.7000</td>\n",
       "      <td>79</td>\n",
       "      <td>91</td>\n",
       "      <td>790</td>\n",
       "      <td>0</td>\n",
       "      <td>2</td>\n",
       "      <td>32</td>\n",
       "      <td>3.723</td>\n",
       "      <td>1</td>\n",
       "      <td>1</td>\n",
       "      <td>0</td>\n",
       "      <td>0</td>\n",
       "      <td>0</td>\n",
       "      <td>0</td>\n",
       "      <td>0</td>\n",
       "      <td>0</td>\n",
       "      <td>0</td>\n",
       "      <td>1</td>\n",
       "    </tr>\n",
       "  </tbody>\n",
       "</table>\n",
       "</div>"
      ],
      "text/plain": [
       "   UGDegreeConvertedGPA  English_Score  Analytical_Score  Ping-TotalCount  StandardizedTestWaived(ReaderIndicator)  Events_Attended  Events_Registered  Grades_CumulativeGPA  Sex_M  PrimaryCitizenship_India  PrimaryCitizenship_Jordan  PrimaryCitizenship_Nigeria  PrimaryCitizenship_South Korea  PrimaryCitizenship_Taiwan  PrimaryCitizenship_United States  PrimaryCitizenship_Vietnam  IntentToEnroll_Determined  IntentToEnroll_UnSure\n",
       "0                3.5280             81                91              749                                        0                5                 19                 3.751      0                         1                          0                           0                               0                          0                                 0                           0                          1                      0\n",
       "1                3.0400             90                92             1133                                        0                4                 26                 3.973      0                         1                          0                           0                               0                          0                                 0                           0                          1                      0\n",
       "2                3.9440             83                89             2209                                        0                7                 16                 3.917      1                         1                          0                           0                               0                          0                                 0                           0                          0                      1\n",
       "3                2.9968             74                 0              626                                        1                2                 16                 3.890      1                         1                          0                           0                               0                          0                                 0                           0                          1                      0\n",
       "4                3.7000             79                91              790                                        0                2                 32                 3.723      1                         1                          0                           0                               0                          0                                 0                           0                          0                      1"
      ]
     },
     "execution_count": 140,
     "metadata": {},
     "output_type": "execute_result"
    }
   ],
   "source": [
    "df2.head()"
   ]
  },
  {
   "cell_type": "code",
   "execution_count": 141,
   "id": "9a83659a",
   "metadata": {},
   "outputs": [
    {
     "data": {
      "text/plain": [
       "UGDegreeConvertedGPA                       float64\n",
       "English_Score                                int64\n",
       "Analytical_Score                             int64\n",
       "Ping-TotalCount                              int64\n",
       "StandardizedTestWaived(ReaderIndicator)      int64\n",
       "Events_Attended                              int64\n",
       "Events_Registered                            int64\n",
       "Grades_CumulativeGPA                       float64\n",
       "Sex_M                                        uint8\n",
       "PrimaryCitizenship_India                     uint8\n",
       "PrimaryCitizenship_Jordan                    uint8\n",
       "PrimaryCitizenship_Nigeria                   uint8\n",
       "PrimaryCitizenship_South Korea               uint8\n",
       "PrimaryCitizenship_Taiwan                    uint8\n",
       "PrimaryCitizenship_United States             uint8\n",
       "PrimaryCitizenship_Vietnam                   uint8\n",
       "IntentToEnroll_Determined                    uint8\n",
       "IntentToEnroll_UnSure                        uint8\n",
       "dtype: object"
      ]
     },
     "execution_count": 141,
     "metadata": {},
     "output_type": "execute_result"
    }
   ],
   "source": [
    "df2.dtypes"
   ]
  },
  {
   "cell_type": "code",
   "execution_count": 142,
   "id": "b0f8d8e3",
   "metadata": {},
   "outputs": [],
   "source": [
    "# normalize the data\n",
    "scaler = MinMaxScaler()\n",
    "df3 = scaler.fit_transform(df2)"
   ]
  },
  {
   "cell_type": "code",
   "execution_count": 143,
   "id": "511c8190",
   "metadata": {},
   "outputs": [
    {
     "name": "stderr",
     "output_type": "stream",
     "text": [
      "C:\\Users\\Rimpy khokhar\\anaconda3\\lib\\site-packages\\sklearn\\cluster\\_kmeans.py:870: FutureWarning:\n",
      "\n",
      "The default value of `n_init` will change from 10 to 'auto' in 1.4. Set the value of `n_init` explicitly to suppress the warning\n",
      "\n",
      "C:\\Users\\Rimpy khokhar\\anaconda3\\lib\\site-packages\\sklearn\\cluster\\_kmeans.py:1382: UserWarning:\n",
      "\n",
      "KMeans is known to have a memory leak on Windows with MKL, when there are less chunks than available threads. You can avoid it by setting the environment variable OMP_NUM_THREADS=2.\n",
      "\n",
      "C:\\Users\\Rimpy khokhar\\anaconda3\\lib\\site-packages\\sklearn\\cluster\\_kmeans.py:870: FutureWarning:\n",
      "\n",
      "The default value of `n_init` will change from 10 to 'auto' in 1.4. Set the value of `n_init` explicitly to suppress the warning\n",
      "\n",
      "C:\\Users\\Rimpy khokhar\\anaconda3\\lib\\site-packages\\sklearn\\cluster\\_kmeans.py:1382: UserWarning:\n",
      "\n",
      "KMeans is known to have a memory leak on Windows with MKL, when there are less chunks than available threads. You can avoid it by setting the environment variable OMP_NUM_THREADS=2.\n",
      "\n",
      "C:\\Users\\Rimpy khokhar\\anaconda3\\lib\\site-packages\\sklearn\\cluster\\_kmeans.py:870: FutureWarning:\n",
      "\n",
      "The default value of `n_init` will change from 10 to 'auto' in 1.4. Set the value of `n_init` explicitly to suppress the warning\n",
      "\n",
      "C:\\Users\\Rimpy khokhar\\anaconda3\\lib\\site-packages\\sklearn\\cluster\\_kmeans.py:1382: UserWarning:\n",
      "\n",
      "KMeans is known to have a memory leak on Windows with MKL, when there are less chunks than available threads. You can avoid it by setting the environment variable OMP_NUM_THREADS=2.\n",
      "\n",
      "C:\\Users\\Rimpy khokhar\\anaconda3\\lib\\site-packages\\sklearn\\cluster\\_kmeans.py:870: FutureWarning:\n",
      "\n",
      "The default value of `n_init` will change from 10 to 'auto' in 1.4. Set the value of `n_init` explicitly to suppress the warning\n",
      "\n",
      "C:\\Users\\Rimpy khokhar\\anaconda3\\lib\\site-packages\\sklearn\\cluster\\_kmeans.py:1382: UserWarning:\n",
      "\n",
      "KMeans is known to have a memory leak on Windows with MKL, when there are less chunks than available threads. You can avoid it by setting the environment variable OMP_NUM_THREADS=2.\n",
      "\n",
      "C:\\Users\\Rimpy khokhar\\anaconda3\\lib\\site-packages\\sklearn\\cluster\\_kmeans.py:870: FutureWarning:\n",
      "\n",
      "The default value of `n_init` will change from 10 to 'auto' in 1.4. Set the value of `n_init` explicitly to suppress the warning\n",
      "\n",
      "C:\\Users\\Rimpy khokhar\\anaconda3\\lib\\site-packages\\sklearn\\cluster\\_kmeans.py:1382: UserWarning:\n",
      "\n",
      "KMeans is known to have a memory leak on Windows with MKL, when there are less chunks than available threads. You can avoid it by setting the environment variable OMP_NUM_THREADS=2.\n",
      "\n",
      "C:\\Users\\Rimpy khokhar\\anaconda3\\lib\\site-packages\\sklearn\\cluster\\_kmeans.py:870: FutureWarning:\n",
      "\n",
      "The default value of `n_init` will change from 10 to 'auto' in 1.4. Set the value of `n_init` explicitly to suppress the warning\n",
      "\n",
      "C:\\Users\\Rimpy khokhar\\anaconda3\\lib\\site-packages\\sklearn\\cluster\\_kmeans.py:1382: UserWarning:\n",
      "\n",
      "KMeans is known to have a memory leak on Windows with MKL, when there are less chunks than available threads. You can avoid it by setting the environment variable OMP_NUM_THREADS=2.\n",
      "\n",
      "C:\\Users\\Rimpy khokhar\\anaconda3\\lib\\site-packages\\sklearn\\cluster\\_kmeans.py:870: FutureWarning:\n",
      "\n",
      "The default value of `n_init` will change from 10 to 'auto' in 1.4. Set the value of `n_init` explicitly to suppress the warning\n",
      "\n",
      "C:\\Users\\Rimpy khokhar\\anaconda3\\lib\\site-packages\\sklearn\\cluster\\_kmeans.py:1382: UserWarning:\n",
      "\n",
      "KMeans is known to have a memory leak on Windows with MKL, when there are less chunks than available threads. You can avoid it by setting the environment variable OMP_NUM_THREADS=2.\n",
      "\n",
      "C:\\Users\\Rimpy khokhar\\anaconda3\\lib\\site-packages\\sklearn\\cluster\\_kmeans.py:870: FutureWarning:\n",
      "\n",
      "The default value of `n_init` will change from 10 to 'auto' in 1.4. Set the value of `n_init` explicitly to suppress the warning\n",
      "\n",
      "C:\\Users\\Rimpy khokhar\\anaconda3\\lib\\site-packages\\sklearn\\cluster\\_kmeans.py:1382: UserWarning:\n",
      "\n",
      "KMeans is known to have a memory leak on Windows with MKL, when there are less chunks than available threads. You can avoid it by setting the environment variable OMP_NUM_THREADS=2.\n",
      "\n",
      "C:\\Users\\Rimpy khokhar\\anaconda3\\lib\\site-packages\\sklearn\\cluster\\_kmeans.py:870: FutureWarning:\n",
      "\n",
      "The default value of `n_init` will change from 10 to 'auto' in 1.4. Set the value of `n_init` explicitly to suppress the warning\n",
      "\n",
      "C:\\Users\\Rimpy khokhar\\anaconda3\\lib\\site-packages\\sklearn\\cluster\\_kmeans.py:1382: UserWarning:\n",
      "\n",
      "KMeans is known to have a memory leak on Windows with MKL, when there are less chunks than available threads. You can avoid it by setting the environment variable OMP_NUM_THREADS=2.\n",
      "\n",
      "C:\\Users\\Rimpy khokhar\\anaconda3\\lib\\site-packages\\sklearn\\cluster\\_kmeans.py:870: FutureWarning:\n",
      "\n",
      "The default value of `n_init` will change from 10 to 'auto' in 1.4. Set the value of `n_init` explicitly to suppress the warning\n",
      "\n",
      "C:\\Users\\Rimpy khokhar\\anaconda3\\lib\\site-packages\\sklearn\\cluster\\_kmeans.py:1382: UserWarning:\n",
      "\n",
      "KMeans is known to have a memory leak on Windows with MKL, when there are less chunks than available threads. You can avoid it by setting the environment variable OMP_NUM_THREADS=2.\n",
      "\n"
     ]
    },
    {
     "data": {
      "image/png": "[encoded data removed]",
      "text/plain": [
       "<Figure size 576x396 with 1 Axes>"
      ]
     },
     "metadata": {},
     "output_type": "display_data"
    }
   ],
   "source": [
    "# identifying the optimal K for clustering \n",
    "\n",
    "# create an empty list to store the inertia values for different values of K\n",
    "inertia = []\n",
    "\n",
    "# loop through different values of K and calculate the inertia for each value\n",
    "for k in range(1, 11):\n",
    "    kmeans = KMeans(n_clusters=k, random_state=0)\n",
    "    kmeans.fit(df3)\n",
    "    inertia.append(kmeans.inertia_)\n",
    "\n",
    "# plot the elbow graph\n",
    "plt.plot(range(1, 11), inertia)\n",
    "plt.title('Elbow graph')\n",
    "plt.xlabel('Number of clusters')\n",
    "plt.ylabel('Inertia')\n",
    "plt.show()"
   ]
  },
  {
   "cell_type": "code",
   "execution_count": 144,
   "id": "01679bf7",
   "metadata": {},
   "outputs": [
    {
     "name": "stdout",
     "output_type": "stream",
     "text": [
      "Requirement already satisfied: yellowbrick in c:\\users\\rimpy khokhar\\anaconda3\\lib\\site-packages (1.5)\n",
      "Requirement already satisfied: cycler>=0.10.0 in c:\\users\\rimpy khokhar\\anaconda3\\lib\\site-packages (from yellowbrick) (0.10.0)\n",
      "Requirement already satisfied: scikit-learn>=1.0.0 in c:\\users\\rimpy khokhar\\anaconda3\\lib\\site-packages (from yellowbrick) (1.2.2)\n",
      "Requirement already satisfied: matplotlib!=3.0.0,>=2.0.2 in c:\\users\\rimpy khokhar\\anaconda3\\lib\\site-packages (from yellowbrick) (3.4.3)\n",
      "Requirement already satisfied: numpy>=1.16.0 in c:\\users\\rimpy khokhar\\anaconda3\\lib\\site-packages (from yellowbrick) (1.20.3)\n",
      "Requirement already satisfied: scipy>=1.0.0 in c:\\users\\rimpy khokhar\\anaconda3\\lib\\site-packages (from yellowbrick) (1.7.1)\n",
      "Requirement already satisfied: six in c:\\users\\rimpy khokhar\\anaconda3\\lib\\site-packages (from cycler>=0.10.0->yellowbrick) (1.16.0)\n",
      "Requirement already satisfied: python-dateutil>=2.7 in c:\\users\\rimpy khokhar\\anaconda3\\lib\\site-packages (from matplotlib!=3.0.0,>=2.0.2->yellowbrick) (2.8.2)\n",
      "Requirement already satisfied: pillow>=6.2.0 in c:\\users\\rimpy khokhar\\anaconda3\\lib\\site-packages (from matplotlib!=3.0.0,>=2.0.2->yellowbrick) (8.4.0)\n",
      "Requirement already satisfied: kiwisolver>=1.0.1 in c:\\users\\rimpy khokhar\\anaconda3\\lib\\site-packages (from matplotlib!=3.0.0,>=2.0.2->yellowbrick) (1.3.1)\n",
      "Requirement already satisfied: pyparsing>=2.2.1 in c:\\users\\rimpy khokhar\\anaconda3\\lib\\site-packages (from matplotlib!=3.0.0,>=2.0.2->yellowbrick) (3.0.4)\n",
      "Requirement already satisfied: joblib>=1.1.1 in c:\\users\\rimpy khokhar\\anaconda3\\lib\\site-packages (from scikit-learn>=1.0.0->yellowbrick) (1.2.0)\n",
      "Requirement already satisfied: threadpoolctl>=2.0.0 in c:\\users\\rimpy khokhar\\anaconda3\\lib\\site-packages (from scikit-learn>=1.0.0->yellowbrick) (2.2.0)\n"
     ]
    },
    {
     "name": "stderr",
     "output_type": "stream",
     "text": [
      "C:\\Users\\Rimpy khokhar\\anaconda3\\lib\\site-packages\\sklearn\\cluster\\_kmeans.py:1382: UserWarning:\n",
      "\n",
      "KMeans is known to have a memory leak on Windows with MKL, when there are less chunks than available threads. You can avoid it by setting the environment variable OMP_NUM_THREADS=2.\n",
      "\n",
      "C:\\Users\\Rimpy khokhar\\anaconda3\\lib\\site-packages\\sklearn\\cluster\\_kmeans.py:1382: UserWarning:\n",
      "\n",
      "KMeans is known to have a memory leak on Windows with MKL, when there are less chunks than available threads. You can avoid it by setting the environment variable OMP_NUM_THREADS=2.\n",
      "\n",
      "C:\\Users\\Rimpy khokhar\\anaconda3\\lib\\site-packages\\sklearn\\cluster\\_kmeans.py:1382: UserWarning:\n",
      "\n",
      "KMeans is known to have a memory leak on Windows with MKL, when there are less chunks than available threads. You can avoid it by setting the environment variable OMP_NUM_THREADS=2.\n",
      "\n",
      "C:\\Users\\Rimpy khokhar\\anaconda3\\lib\\site-packages\\sklearn\\cluster\\_kmeans.py:1382: UserWarning:\n",
      "\n",
      "KMeans is known to have a memory leak on Windows with MKL, when there are less chunks than available threads. You can avoid it by setting the environment variable OMP_NUM_THREADS=2.\n",
      "\n",
      "C:\\Users\\Rimpy khokhar\\anaconda3\\lib\\site-packages\\sklearn\\cluster\\_kmeans.py:1382: UserWarning:\n",
      "\n",
      "KMeans is known to have a memory leak on Windows with MKL, when there are less chunks than available threads. You can avoid it by setting the environment variable OMP_NUM_THREADS=2.\n",
      "\n",
      "C:\\Users\\Rimpy khokhar\\anaconda3\\lib\\site-packages\\sklearn\\cluster\\_kmeans.py:1382: UserWarning:\n",
      "\n",
      "KMeans is known to have a memory leak on Windows with MKL, when there are less chunks than available threads. You can avoid it by setting the environment variable OMP_NUM_THREADS=2.\n",
      "\n"
     ]
    },
    {
     "data": {
      "image/png": "[encoded data removed]",
      "text/plain": [
       "<Figure size 1080x576 with 6 Axes>"
      ]
     },
     "metadata": {},
     "output_type": "display_data"
    }
   ],
   "source": [
    "# identifying the preciously the optimal K for clustering \n",
    "\n",
    "!pip install yellowbrick\n",
    "from yellowbrick.cluster import SilhouetteVisualizer\n",
    "\n",
    "fig, ax = plt.subplots(3, 2, figsize=(15,8))\n",
    "for i in [2, 3, 4, 5, 6, 7]:\n",
    "    '''\n",
    "    Create KMeans instances for different number of clusters\n",
    "    '''\n",
    "    km = KMeans(n_clusters=i, init='k-means++', n_init=10, max_iter=100, random_state=42)\n",
    "    q, mod = divmod(i, 2)\n",
    "    '''\n",
    "    Create SilhouetteVisualizer instance with KMeans instance\n",
    "    Fit the visualizer\n",
    "    '''\n",
    "    visualizer = SilhouetteVisualizer(km, colors='yellowbrick', ax=ax[q-1][mod])\n",
    "    visualizer.fit(df3) "
   ]
  },
  {
   "cell_type": "code",
   "execution_count": 145,
   "id": "ac948085",
   "metadata": {},
   "outputs": [
    {
     "name": "stderr",
     "output_type": "stream",
     "text": [
      "C:\\Users\\Rimpy khokhar\\anaconda3\\lib\\site-packages\\sklearn\\cluster\\_kmeans.py:1382: UserWarning:\n",
      "\n",
      "KMeans is known to have a memory leak on Windows with MKL, when there are less chunks than available threads. You can avoid it by setting the environment variable OMP_NUM_THREADS=2.\n",
      "\n"
     ]
    }
   ],
   "source": [
    "# perform k-means clustering\n",
    "kmeans = KMeans(n_clusters = 4, init='k-means++', max_iter=300, n_init=10, random_state=0)\n",
    "pred_y = kmeans.fit_predict(df3)"
   ]
  },
  {
   "cell_type": "code",
   "execution_count": 146,
   "id": "e809dc9a",
   "metadata": {},
   "outputs": [
    {
     "data": {
      "text/html": [
       "<div>\n",
       "<style scoped>\n",
       "    .dataframe tbody tr th:only-of-type {\n",
       "        vertical-align: middle;\n",
       "    }\n",
       "\n",
       "    .dataframe tbody tr th {\n",
       "        vertical-align: top;\n",
       "    }\n",
       "\n",
       "    .dataframe thead th {\n",
       "        text-align: right;\n",
       "    }\n",
       "</style>\n",
       "<table border=\"1\" class=\"dataframe\">\n",
       "  <thead>\n",
       "    <tr style=\"text-align: right;\">\n",
       "      <th></th>\n",
       "      <th>UGDegreeConvertedGPA</th>\n",
       "      <th>English_Score</th>\n",
       "      <th>Analytical_Score</th>\n",
       "      <th>Ping-TotalCount</th>\n",
       "      <th>StandardizedTestWaived(ReaderIndicator)</th>\n",
       "      <th>Events_Attended</th>\n",
       "      <th>Events_Registered</th>\n",
       "      <th>Grades_CumulativeGPA</th>\n",
       "      <th>Sex_M</th>\n",
       "      <th>PrimaryCitizenship_India</th>\n",
       "      <th>PrimaryCitizenship_Jordan</th>\n",
       "      <th>PrimaryCitizenship_Nigeria</th>\n",
       "      <th>PrimaryCitizenship_South Korea</th>\n",
       "      <th>PrimaryCitizenship_Taiwan</th>\n",
       "      <th>PrimaryCitizenship_United States</th>\n",
       "      <th>PrimaryCitizenship_Vietnam</th>\n",
       "      <th>IntentToEnroll_Determined</th>\n",
       "      <th>IntentToEnroll_UnSure</th>\n",
       "      <th>segment</th>\n",
       "    </tr>\n",
       "  </thead>\n",
       "  <tbody>\n",
       "    <tr>\n",
       "      <th>0</th>\n",
       "      <td>3.5280</td>\n",
       "      <td>81</td>\n",
       "      <td>91</td>\n",
       "      <td>749</td>\n",
       "      <td>0</td>\n",
       "      <td>5</td>\n",
       "      <td>19</td>\n",
       "      <td>3.751</td>\n",
       "      <td>0</td>\n",
       "      <td>1</td>\n",
       "      <td>0</td>\n",
       "      <td>0</td>\n",
       "      <td>0</td>\n",
       "      <td>0</td>\n",
       "      <td>0</td>\n",
       "      <td>0</td>\n",
       "      <td>1</td>\n",
       "      <td>0</td>\n",
       "      <td>0</td>\n",
       "    </tr>\n",
       "    <tr>\n",
       "      <th>1</th>\n",
       "      <td>3.0400</td>\n",
       "      <td>90</td>\n",
       "      <td>92</td>\n",
       "      <td>1133</td>\n",
       "      <td>0</td>\n",
       "      <td>4</td>\n",
       "      <td>26</td>\n",
       "      <td>3.973</td>\n",
       "      <td>0</td>\n",
       "      <td>1</td>\n",
       "      <td>0</td>\n",
       "      <td>0</td>\n",
       "      <td>0</td>\n",
       "      <td>0</td>\n",
       "      <td>0</td>\n",
       "      <td>0</td>\n",
       "      <td>1</td>\n",
       "      <td>0</td>\n",
       "      <td>0</td>\n",
       "    </tr>\n",
       "    <tr>\n",
       "      <th>2</th>\n",
       "      <td>3.9440</td>\n",
       "      <td>83</td>\n",
       "      <td>89</td>\n",
       "      <td>2209</td>\n",
       "      <td>0</td>\n",
       "      <td>7</td>\n",
       "      <td>16</td>\n",
       "      <td>3.917</td>\n",
       "      <td>1</td>\n",
       "      <td>1</td>\n",
       "      <td>0</td>\n",
       "      <td>0</td>\n",
       "      <td>0</td>\n",
       "      <td>0</td>\n",
       "      <td>0</td>\n",
       "      <td>0</td>\n",
       "      <td>0</td>\n",
       "      <td>1</td>\n",
       "      <td>3</td>\n",
       "    </tr>\n",
       "    <tr>\n",
       "      <th>3</th>\n",
       "      <td>2.9968</td>\n",
       "      <td>74</td>\n",
       "      <td>0</td>\n",
       "      <td>626</td>\n",
       "      <td>1</td>\n",
       "      <td>2</td>\n",
       "      <td>16</td>\n",
       "      <td>3.890</td>\n",
       "      <td>1</td>\n",
       "      <td>1</td>\n",
       "      <td>0</td>\n",
       "      <td>0</td>\n",
       "      <td>0</td>\n",
       "      <td>0</td>\n",
       "      <td>0</td>\n",
       "      <td>0</td>\n",
       "      <td>1</td>\n",
       "      <td>0</td>\n",
       "      <td>2</td>\n",
       "    </tr>\n",
       "    <tr>\n",
       "      <th>4</th>\n",
       "      <td>3.7000</td>\n",
       "      <td>79</td>\n",
       "      <td>91</td>\n",
       "      <td>790</td>\n",
       "      <td>0</td>\n",
       "      <td>2</td>\n",
       "      <td>32</td>\n",
       "      <td>3.723</td>\n",
       "      <td>1</td>\n",
       "      <td>1</td>\n",
       "      <td>0</td>\n",
       "      <td>0</td>\n",
       "      <td>0</td>\n",
       "      <td>0</td>\n",
       "      <td>0</td>\n",
       "      <td>0</td>\n",
       "      <td>0</td>\n",
       "      <td>1</td>\n",
       "      <td>3</td>\n",
       "    </tr>\n",
       "  </tbody>\n",
       "</table>\n",
       "</div>"
      ],
      "text/plain": [
       "   UGDegreeConvertedGPA  English_Score  Analytical_Score  Ping-TotalCount  StandardizedTestWaived(ReaderIndicator)  Events_Attended  Events_Registered  Grades_CumulativeGPA  Sex_M  PrimaryCitizenship_India  PrimaryCitizenship_Jordan  PrimaryCitizenship_Nigeria  PrimaryCitizenship_South Korea  PrimaryCitizenship_Taiwan  PrimaryCitizenship_United States  PrimaryCitizenship_Vietnam  IntentToEnroll_Determined  IntentToEnroll_UnSure  segment\n",
       "0                3.5280             81                91              749                                        0                5                 19                 3.751      0                         1                          0                           0                               0                          0                                 0                           0                          1                      0        0\n",
       "1                3.0400             90                92             1133                                        0                4                 26                 3.973      0                         1                          0                           0                               0                          0                                 0                           0                          1                      0        0\n",
       "2                3.9440             83                89             2209                                        0                7                 16                 3.917      1                         1                          0                           0                               0                          0                                 0                           0                          0                      1        3\n",
       "3                2.9968             74                 0              626                                        1                2                 16                 3.890      1                         1                          0                           0                               0                          0                                 0                           0                          1                      0        2\n",
       "4                3.7000             79                91              790                                        0                2                 32                 3.723      1                         1                          0                           0                               0                          0                                 0                           0                          0                      1        3"
      ]
     },
     "execution_count": 146,
     "metadata": {},
     "output_type": "execute_result"
    }
   ],
   "source": [
    "df2['segment'] = pred_y\n",
    "df2.head()"
   ]
  },
  {
   "cell_type": "code",
   "execution_count": 147,
   "id": "97e65817",
   "metadata": {},
   "outputs": [],
   "source": [
    "df2.to_excel('Cluster_segments_goodcluster_v2.xlsx', index=False)"
   ]
  },
  {
   "cell_type": "code",
   "execution_count": 148,
   "id": "4a2b4db1",
   "metadata": {},
   "outputs": [],
   "source": [
    "#Cluster prediciton using random forest classifier\n",
    "#we have clusters so now let's convert this unsupervised learning to classification problem and use random forest classifier for prediction and evaluate the prediction accuracy\n",
    "\n",
    "df_p = pd.DataFrame(df3)\n",
    "df_p[\"segment\"] = pred_y"
   ]
  },
  {
   "cell_type": "code",
   "execution_count": 149,
   "id": "8f451d3d",
   "metadata": {},
   "outputs": [
    {
     "data": {
      "text/html": [
       "<div>\n",
       "<style scoped>\n",
       "    .dataframe tbody tr th:only-of-type {\n",
       "        vertical-align: middle;\n",
       "    }\n",
       "\n",
       "    .dataframe tbody tr th {\n",
       "        vertical-align: top;\n",
       "    }\n",
       "\n",
       "    .dataframe thead th {\n",
       "        text-align: right;\n",
       "    }\n",
       "</style>\n",
       "<table border=\"1\" class=\"dataframe\">\n",
       "  <thead>\n",
       "    <tr style=\"text-align: right;\">\n",
       "      <th></th>\n",
       "      <th>0</th>\n",
       "      <th>1</th>\n",
       "      <th>2</th>\n",
       "      <th>3</th>\n",
       "      <th>4</th>\n",
       "      <th>5</th>\n",
       "      <th>6</th>\n",
       "      <th>7</th>\n",
       "      <th>8</th>\n",
       "      <th>9</th>\n",
       "      <th>10</th>\n",
       "      <th>11</th>\n",
       "      <th>12</th>\n",
       "      <th>13</th>\n",
       "      <th>14</th>\n",
       "      <th>15</th>\n",
       "      <th>16</th>\n",
       "      <th>17</th>\n",
       "      <th>segment</th>\n",
       "    </tr>\n",
       "  </thead>\n",
       "  <tbody>\n",
       "    <tr>\n",
       "      <th>0</th>\n",
       "      <td>0.803333</td>\n",
       "      <td>0.852632</td>\n",
       "      <td>0.928571</td>\n",
       "      <td>0.190053</td>\n",
       "      <td>0.0</td>\n",
       "      <td>0.333333</td>\n",
       "      <td>0.351351</td>\n",
       "      <td>0.670635</td>\n",
       "      <td>0.0</td>\n",
       "      <td>1.0</td>\n",
       "      <td>0.0</td>\n",
       "      <td>0.0</td>\n",
       "      <td>0.0</td>\n",
       "      <td>0.0</td>\n",
       "      <td>0.0</td>\n",
       "      <td>0.0</td>\n",
       "      <td>1.0</td>\n",
       "      <td>0.0</td>\n",
       "      <td>0</td>\n",
       "    </tr>\n",
       "    <tr>\n",
       "      <th>1</th>\n",
       "      <td>0.600000</td>\n",
       "      <td>0.947368</td>\n",
       "      <td>0.938776</td>\n",
       "      <td>0.287490</td>\n",
       "      <td>0.0</td>\n",
       "      <td>0.266667</td>\n",
       "      <td>0.540541</td>\n",
       "      <td>0.964286</td>\n",
       "      <td>0.0</td>\n",
       "      <td>1.0</td>\n",
       "      <td>0.0</td>\n",
       "      <td>0.0</td>\n",
       "      <td>0.0</td>\n",
       "      <td>0.0</td>\n",
       "      <td>0.0</td>\n",
       "      <td>0.0</td>\n",
       "      <td>1.0</td>\n",
       "      <td>0.0</td>\n",
       "      <td>0</td>\n",
       "    </tr>\n",
       "    <tr>\n",
       "      <th>2</th>\n",
       "      <td>0.976667</td>\n",
       "      <td>0.873684</td>\n",
       "      <td>0.908163</td>\n",
       "      <td>0.560518</td>\n",
       "      <td>0.0</td>\n",
       "      <td>0.466667</td>\n",
       "      <td>0.270270</td>\n",
       "      <td>0.890212</td>\n",
       "      <td>1.0</td>\n",
       "      <td>1.0</td>\n",
       "      <td>0.0</td>\n",
       "      <td>0.0</td>\n",
       "      <td>0.0</td>\n",
       "      <td>0.0</td>\n",
       "      <td>0.0</td>\n",
       "      <td>0.0</td>\n",
       "      <td>0.0</td>\n",
       "      <td>1.0</td>\n",
       "      <td>3</td>\n",
       "    </tr>\n",
       "    <tr>\n",
       "      <th>3</th>\n",
       "      <td>0.582000</td>\n",
       "      <td>0.778947</td>\n",
       "      <td>0.000000</td>\n",
       "      <td>0.158843</td>\n",
       "      <td>1.0</td>\n",
       "      <td>0.133333</td>\n",
       "      <td>0.270270</td>\n",
       "      <td>0.854497</td>\n",
       "      <td>1.0</td>\n",
       "      <td>1.0</td>\n",
       "      <td>0.0</td>\n",
       "      <td>0.0</td>\n",
       "      <td>0.0</td>\n",
       "      <td>0.0</td>\n",
       "      <td>0.0</td>\n",
       "      <td>0.0</td>\n",
       "      <td>1.0</td>\n",
       "      <td>0.0</td>\n",
       "      <td>2</td>\n",
       "    </tr>\n",
       "    <tr>\n",
       "      <th>4</th>\n",
       "      <td>0.875000</td>\n",
       "      <td>0.831579</td>\n",
       "      <td>0.928571</td>\n",
       "      <td>0.200457</td>\n",
       "      <td>0.0</td>\n",
       "      <td>0.133333</td>\n",
       "      <td>0.702703</td>\n",
       "      <td>0.633598</td>\n",
       "      <td>1.0</td>\n",
       "      <td>1.0</td>\n",
       "      <td>0.0</td>\n",
       "      <td>0.0</td>\n",
       "      <td>0.0</td>\n",
       "      <td>0.0</td>\n",
       "      <td>0.0</td>\n",
       "      <td>0.0</td>\n",
       "      <td>0.0</td>\n",
       "      <td>1.0</td>\n",
       "      <td>3</td>\n",
       "    </tr>\n",
       "  </tbody>\n",
       "</table>\n",
       "</div>"
      ],
      "text/plain": [
       "          0         1         2         3    4         5         6         7    8    9   10   11   12   13   14   15   16   17  segment\n",
       "0  0.803333  0.852632  0.928571  0.190053  0.0  0.333333  0.351351  0.670635  0.0  1.0  0.0  0.0  0.0  0.0  0.0  0.0  1.0  0.0        0\n",
       "1  0.600000  0.947368  0.938776  0.287490  0.0  0.266667  0.540541  0.964286  0.0  1.0  0.0  0.0  0.0  0.0  0.0  0.0  1.0  0.0        0\n",
       "2  0.976667  0.873684  0.908163  0.560518  0.0  0.466667  0.270270  0.890212  1.0  1.0  0.0  0.0  0.0  0.0  0.0  0.0  0.0  1.0        3\n",
       "3  0.582000  0.778947  0.000000  0.158843  1.0  0.133333  0.270270  0.854497  1.0  1.0  0.0  0.0  0.0  0.0  0.0  0.0  1.0  0.0        2\n",
       "4  0.875000  0.831579  0.928571  0.200457  0.0  0.133333  0.702703  0.633598  1.0  1.0  0.0  0.0  0.0  0.0  0.0  0.0  0.0  1.0        3"
      ]
     },
     "execution_count": 149,
     "metadata": {},
     "output_type": "execute_result"
    }
   ],
   "source": [
    "df_p.head()"
   ]
  },
  {
   "cell_type": "code",
   "execution_count": 150,
   "id": "1d394db1",
   "metadata": {},
   "outputs": [],
   "source": [
    "# Split dataset into features and target\n",
    "y = df_p['segment']\n",
    "X = df_p.drop('segment', axis=1)\n"
   ]
  },
  {
   "cell_type": "code",
   "execution_count": 151,
   "id": "6df77b7a",
   "metadata": {},
   "outputs": [
    {
     "data": {
      "text/plain": [
       "0    165\n",
       "1     50\n",
       "3     43\n",
       "2     38\n",
       "Name: segment, dtype: int64"
      ]
     },
     "execution_count": 151,
     "metadata": {},
     "output_type": "execute_result"
    }
   ],
   "source": [
    "# View count of each class\n",
    "y.value_counts()"
   ]
  },
  {
   "cell_type": "code",
   "execution_count": 152,
   "id": "76255adf",
   "metadata": {},
   "outputs": [],
   "source": [
    "# Split features and target into train and test sets\n",
    "X_train, X_test, y_train, y_test = train_test_split(X, y, random_state=1, stratify=y)"
   ]
  },
  {
   "cell_type": "code",
   "execution_count": 153,
   "id": "95c92ee8",
   "metadata": {},
   "outputs": [
    {
     "data": {
      "text/html": [
       "<style>#sk-container-id-4 {color: black;background-color: white;}#sk-container-id-4 pre{padding: 0;}#sk-container-id-4 div.sk-toggleable {background-color: white;}#sk-container-id-4 label.sk-toggleable__label {cursor: pointer;display: block;width: 100%;margin-bottom: 0;padding: 0.3em;box-sizing: border-box;text-align: center;}#sk-container-id-4 label.sk-toggleable__label-arrow:before {content: \"▸\";float: left;margin-right: 0.25em;color: #696969;}#sk-container-id-4 label.sk-toggleable__label-arrow:hover:before {color: black;}#sk-container-id-4 div.sk-estimator:hover label.sk-toggleable__label-arrow:before {color: black;}#sk-container-id-4 div.sk-toggleable__content {max-height: 0;max-width: 0;overflow: hidden;text-align: left;background-color: #f0f8ff;}#sk-container-id-4 div.sk-toggleable__content pre {margin: 0.2em;color: black;border-radius: 0.25em;background-color: #f0f8ff;}#sk-container-id-4 input.sk-toggleable__control:checked~div.sk-toggleable__content {max-height: 200px;max-width: 100%;overflow: auto;}#sk-container-id-4 input.sk-toggleable__control:checked~label.sk-toggleable__label-arrow:before {content: \"▾\";}#sk-container-id-4 div.sk-estimator input.sk-toggleable__control:checked~label.sk-toggleable__label {background-color: #d4ebff;}#sk-container-id-4 div.sk-label input.sk-toggleable__control:checked~label.sk-toggleable__label {background-color: #d4ebff;}#sk-container-id-4 input.sk-hidden--visually {border: 0;clip: rect(1px 1px 1px 1px);clip: rect(1px, 1px, 1px, 1px);height: 1px;margin: -1px;overflow: hidden;padding: 0;position: absolute;width: 1px;}#sk-container-id-4 div.sk-estimator {font-family: monospace;background-color: #f0f8ff;border: 1px dotted black;border-radius: 0.25em;box-sizing: border-box;margin-bottom: 0.5em;}#sk-container-id-4 div.sk-estimator:hover {background-color: #d4ebff;}#sk-container-id-4 div.sk-parallel-item::after {content: \"\";width: 100%;border-bottom: 1px solid gray;flex-grow: 1;}#sk-container-id-4 div.sk-label:hover label.sk-toggleable__label {background-color: #d4ebff;}#sk-container-id-4 div.sk-serial::before {content: \"\";position: absolute;border-left: 1px solid gray;box-sizing: border-box;top: 0;bottom: 0;left: 50%;z-index: 0;}#sk-container-id-4 div.sk-serial {display: flex;flex-direction: column;align-items: center;background-color: white;padding-right: 0.2em;padding-left: 0.2em;position: relative;}#sk-container-id-4 div.sk-item {position: relative;z-index: 1;}#sk-container-id-4 div.sk-parallel {display: flex;align-items: stretch;justify-content: center;background-color: white;position: relative;}#sk-container-id-4 div.sk-item::before, #sk-container-id-4 div.sk-parallel-item::before {content: \"\";position: absolute;border-left: 1px solid gray;box-sizing: border-box;top: 0;bottom: 0;left: 50%;z-index: -1;}#sk-container-id-4 div.sk-parallel-item {display: flex;flex-direction: column;z-index: 1;position: relative;background-color: white;}#sk-container-id-4 div.sk-parallel-item:first-child::after {align-self: flex-end;width: 50%;}#sk-container-id-4 div.sk-parallel-item:last-child::after {align-self: flex-start;width: 50%;}#sk-container-id-4 div.sk-parallel-item:only-child::after {width: 0;}#sk-container-id-4 div.sk-dashed-wrapped {border: 1px dashed gray;margin: 0 0.4em 0.5em 0.4em;box-sizing: border-box;padding-bottom: 0.4em;background-color: white;}#sk-container-id-4 div.sk-label label {font-family: monospace;font-weight: bold;display: inline-block;line-height: 1.2em;}#sk-container-id-4 div.sk-label-container {text-align: center;}#sk-container-id-4 div.sk-container {/* jupyter's `normalize.less` sets `[hidden] { display: none; }` but bootstrap.min.css set `[hidden] { display: none !important; }` so we also need the `!important` here to be able to override the default hidden behavior on the sphinx rendered scikit-learn.org. See: https://github.com/scikit-learn/scikit-learn/issues/21755 */display: inline-block !important;position: relative;}#sk-container-id-4 div.sk-text-repr-fallback {display: none;}</style><div id=\"sk-container-id-4\" class=\"sk-top-container\"><div class=\"sk-text-repr-fallback\"><pre>RandomForestClassifier()</pre><b>In a Jupyter environment, please rerun this cell to show the HTML representation or trust the notebook. <br />On GitHub, the HTML representation is unable to render, please try loading this page with nbviewer.org.</b></div><div class=\"sk-container\" hidden><div class=\"sk-item\"><div class=\"sk-estimator sk-toggleable\"><input class=\"sk-toggleable__control sk-hidden--visually\" id=\"sk-estimator-id-4\" type=\"checkbox\" checked><label for=\"sk-estimator-id-4\" class=\"sk-toggleable__label sk-toggleable__label-arrow\">RandomForestClassifier</label><div class=\"sk-toggleable__content\"><pre>RandomForestClassifier()</pre></div></div></div></div></div>"
      ],
      "text/plain": [
       "RandomForestClassifier()"
      ]
     },
     "execution_count": 153,
     "metadata": {},
     "output_type": "execute_result"
    }
   ],
   "source": [
    "# Instantiate and fit the RandomForestClassifier\n",
    "forest = RandomForestClassifier()\n",
    "forest.fit(X_train, y_train)"
   ]
  },
  {
   "cell_type": "code",
   "execution_count": 154,
   "id": "007f155a",
   "metadata": {},
   "outputs": [],
   "source": [
    "# Make predictions for the test set\n",
    "y_pred_test = forest.predict(X_test)"
   ]
  },
  {
   "cell_type": "code",
   "execution_count": 155,
   "id": "ddffead7",
   "metadata": {},
   "outputs": [
    {
     "data": {
      "text/plain": [
       "0.9864864864864865"
      ]
     },
     "execution_count": 155,
     "metadata": {},
     "output_type": "execute_result"
    }
   ],
   "source": [
    "# View accuracy score\n",
    "accuracy_score(y_test, y_pred_test)"
   ]
  },
  {
   "cell_type": "code",
   "execution_count": 156,
   "id": "77d010c8",
   "metadata": {},
   "outputs": [
    {
     "data": {
      "text/plain": [
       "array([[41,  0,  0,  0],\n",
       "       [ 0, 12,  0,  0],\n",
       "       [ 0,  1,  9,  0],\n",
       "       [ 0,  0,  0, 11]], dtype=int64)"
      ]
     },
     "execution_count": 156,
     "metadata": {},
     "output_type": "execute_result"
    }
   ],
   "source": [
    "# View confusion matrix for test data and predictions\n",
    "confusion_matrix(y_test, y_pred_test)"
   ]
  },
  {
   "cell_type": "code",
   "execution_count": 157,
   "id": "98589c28",
   "metadata": {},
   "outputs": [
    {
     "name": "stdout",
     "output_type": "stream",
     "text": [
      "              precision    recall  f1-score   support\n",
      "\n",
      "           0       1.00      1.00      1.00        41\n",
      "           1       0.92      1.00      0.96        12\n",
      "           2       1.00      0.90      0.95        10\n",
      "           3       1.00      1.00      1.00        11\n",
      "\n",
      "    accuracy                           0.99        74\n",
      "   macro avg       0.98      0.97      0.98        74\n",
      "weighted avg       0.99      0.99      0.99        74\n",
      "\n"
     ]
    }
   ],
   "source": [
    "# View the classification report for test data and predictions\n",
    "print(classification_report(y_test, y_pred_test))"
   ]
  },
  {
   "cell_type": "code",
   "execution_count": 158,
   "id": "ca068069",
   "metadata": {},
   "outputs": [
    {
     "data": {
      "text/plain": [
       "-0.08604906089306202"
      ]
     },
     "execution_count": 158,
     "metadata": {},
     "output_type": "execute_result"
    }
   ],
   "source": [
    "#evaluation metric the well-segment clusters using silhouette_score\n",
    "\n",
    "from sklearn.metrics import silhouette_score\n",
    "\n",
    "df4 = df2.drop(['segment'], axis =1)\n",
    "\n",
    "clusters = df2['segment']\n",
    "\n",
    "Sil_Score = silhouette_score(df4, clusters, metric=\"euclidean\")\n",
    "\n",
    "Sil_Score"
   ]
  },
  {
   "cell_type": "code",
   "execution_count": 159,
   "id": "b8107986",
   "metadata": {},
   "outputs": [
    {
     "data": {
      "text/plain": [
       "3.112316838386039"
      ]
     },
     "execution_count": 159,
     "metadata": {},
     "output_type": "execute_result"
    }
   ],
   "source": [
    "#evaluation metric the well-segment clusters using calinski_harabasz_score\n",
    "\n",
    "from sklearn.metrics import calinski_harabasz_score\n",
    "\n",
    "df4 = df2.drop(['segment'], axis =1)\n",
    "\n",
    "clusters = df2['segment']\n",
    "\n",
    "Cal_Score = calinski_harabasz_score(df4, clusters)\n",
    "\n",
    "Cal_Score"
   ]
  },
  {
   "cell_type": "code",
   "execution_count": 160,
   "id": "5569b685",
   "metadata": {},
   "outputs": [
    {
     "name": "stdout",
     "output_type": "stream",
     "text": [
      "Requirement already satisfied: plotly==5.14.1 in c:\\users\\rimpy khokhar\\anaconda3\\lib\\site-packages (5.14.1)\n",
      "Requirement already satisfied: tenacity>=6.2.0 in c:\\users\\rimpy khokhar\\anaconda3\\lib\\site-packages (from plotly==5.14.1) (8.2.2)\n",
      "Requirement already satisfied: packaging in c:\\users\\rimpy khokhar\\anaconda3\\lib\\site-packages (from plotly==5.14.1) (21.0)\n",
      "Requirement already satisfied: pyparsing>=2.0.2 in c:\\users\\rimpy khokhar\\anaconda3\\lib\\site-packages (from packaging->plotly==5.14.1) (3.0.4)\n"
     ]
    },
    {
     "name": "stderr",
     "output_type": "stream",
     "text": [
      "C:\\Users\\Rimpy khokhar\\anaconda3\\lib\\site-packages\\sklearn\\cluster\\_kmeans.py:870: FutureWarning:\n",
      "\n",
      "The default value of `n_init` will change from 10 to 'auto' in 1.4. Set the value of `n_init` explicitly to suppress the warning\n",
      "\n",
      "C:\\Users\\Rimpy khokhar\\anaconda3\\lib\\site-packages\\sklearn\\cluster\\_kmeans.py:1382: UserWarning:\n",
      "\n",
      "KMeans is known to have a memory leak on Windows with MKL, when there are less chunks than available threads. You can avoid it by setting the environment variable OMP_NUM_THREADS=2.\n",
      "\n"
     ]
    },
    {
     "data": {
      "application/vnd.plotly.v1+json": {
       "config": {
        "plotlyServerURL": "https://plot.ly"
       },
       "data": [
        {
         "marker": {
          "color": [
           1,
           1,
           3,
           0,
           3,
           1,
           1,
           2,
           1,
           2,
           1,
           1,
           0,
           0,
           1,
           1,
           2,
           1,
           1,
           1,
           1,
           1,
           3,
           1,
           1,
           1,
           0,
           1,
           1,
           3,
           3,
           1,
           1,
           1,
           1,
           1,
           2,
           2,
           2,
           1,
           3,
           1,
           1,
           1,
           1,
           1,
           1,
           1,
           2,
           3,
           1,
           0,
           1,
           1,
           1,
           2,
           2,
           3,
           0,
           3,
           3,
           2,
           2,
           1,
           1,
           1,
           2,
           2,
           1,
           3,
           1,
           0,
           0,
           3,
           3,
           1,
           2,
           2,
           1,
           3,
           1,
           1,
           1,
           1,
           0,
           2,
           1,
           3,
           1,
           0,
           1,
           1,
           1,
           1,
           1,
           2,
           1,
           1,
           2,
           3,
           1,
           3,
           1,
           1,
           3,
           3,
           1,
           1,
           1,
           3,
           1,
           0,
           1,
           1,
           2,
           1,
           1,
           3,
           3,
           0,
           1,
           1,
           3,
           1,
           3,
           1,
           1,
           0,
           3,
           2,
           1,
           1,
           0,
           0,
           1,
           1,
           1,
           2,
           1,
           0,
           1,
           1,
           1,
           1,
           1,
           1,
           1,
           2,
           1,
           2,
           2,
           2,
           2,
           1,
           1,
           3,
           1,
           1,
           1,
           1,
           3,
           3,
           1,
           2,
           1,
           1,
           0,
           3,
           1,
           1,
           3,
           1,
           1,
           1,
           1,
           1,
           1,
           1,
           0,
           1,
           2,
           2,
           0,
           0,
           1,
           1,
           1,
           1,
           0,
           3,
           3,
           1,
           3,
           1,
           1,
           0,
           1,
           2,
           3,
           1,
           1,
           1,
           1,
           0,
           1,
           3,
           0,
           2,
           1,
           1,
           1,
           3,
           1,
           1,
           0,
           1,
           1,
           3,
           1,
           1,
           1,
           1,
           1,
           2,
           2,
           3,
           0,
           1,
           1,
           2,
           1,
           0,
           2,
           1,
           3,
           1,
           1,
           3,
           3,
           1,
           1,
           1,
           0,
           2,
           1,
           0,
           0,
           0,
           1,
           1,
           1,
           3,
           0,
           0,
           1,
           1,
           1,
           0,
           1,
           1,
           3,
           2,
           1,
           1,
           2,
           1,
           0,
           3,
           1,
           1,
           2,
           1,
           0,
           1,
           2,
           1,
           0,
           1,
           1,
           1,
           2,
           2,
           1,
           0,
           1,
           2,
           1,
           2,
           2,
           2,
           1,
           2,
           2,
           2,
           2,
           1
          ],
          "line": {
           "color": "black",
           "width": 10
          },
          "size": 10
         },
         "mode": "markers",
         "type": "scatter3d",
         "x": [
          0.8033333333333332,
          0.6000000000000001,
          0.9766666666666666,
          0.5819999999999999,
          0.875,
          0.3899999999999999,
          0.48333333333333317,
          0.5,
          0,
          0.6708333333333334,
          0.8516666666666668,
          0.6406666666666667,
          0.8958333333333333,
          0.5216666666666665,
          0.5363333333333333,
          0.7916666666666667,
          0.7916666666666667,
          0.8600000000000001,
          0.9166666666666665,
          0.5175000000000001,
          0.3899999999999999,
          0.6358333333333333,
          0.5800000000000001,
          0.5416666666666665,
          0.41666666666666674,
          0.6466666666666667,
          0.5349999999999999,
          0.4750000000000001,
          0.44333333333333336,
          0.5716666666666665,
          0.75,
          0.7816666666666667,
          0.7083333333333333,
          0.5960481173406875,
          0.6066666666666667,
          0.5328333333333333,
          0.7349999999999999,
          0.5960481173406875,
          0.7166666666666666,
          0.5416666666666665,
          0.44999999999999996,
          0.4566666666666668,
          0.5506666666666666,
          0.45500000000000007,
          0.637,
          0.6700000000000002,
          0.36283333333333334,
          0.95,
          0.8125,
          0.5960481173406875,
          0.3016666666666665,
          0.7083333333333333,
          0.7916666666666667,
          0.5960481173406875,
          0.4159999999999999,
          0.7429166666666667,
          0.6791666666666667,
          0.5433333333333332,
          0.7316666666666667,
          0.7531666666666665,
          0.7090000000000001,
          0.5960481173406875,
          0.60375,
          0.40666666666666673,
          0.9166666666666665,
          0.37116666666666664,
          0.8333333333333333,
          0.6666666666666667,
          0.40700000000000003,
          0.6333333333333333,
          0.9416666666666667,
          0.5833333333333333,
          0.5049999999999999,
          0.6316666666666666,
          0.5960481173406875,
          0.7983333333333333,
          0.8333333333333333,
          0.5960481173406875,
          0.6033333333333333,
          0.8700000000000001,
          0.6833333333333333,
          0.3621666666666665,
          0.6333333333333333,
          0.5561666666666667,
          0.5683333333333334,
          0.5416666666666665,
          0.44166666666666665,
          0.5833333333333333,
          0.685,
          0.665,
          0.5553333333333332,
          0.8361112499999999,
          0.5960481173406875,
          0.5083333333333333,
          0.4650000000000001,
          0.75,
          0.6083333333333334,
          0.47916666666666674,
          0.5508333333333333,
          0.3878333333333335,
          0.6333333333333333,
          0.625,
          0.5800000000000001,
          0.5960481173406875,
          0.5960481173406875,
          0.5716666666666665,
          0.5766666666666667,
          0.4224999999999999,
          0.4866666666666666,
          0.5960481173406875,
          0.6916666666666667,
          0.7483333333333333,
          0.32066666666666666,
          0.635,
          0.7291666666666667,
          0.5960481173406875,
          0.29999999999999993,
          0.8875,
          0.33333333333333326,
          0.5283333333333333,
          0.4796666666666667,
          0.3999999999999999,
          0.6216666666666666,
          0.44166666666666665,
          0.3976666666666666,
          0.5833333333333333,
          0.43333333333333335,
          0.6800000000000002,
          0.5133333333333332,
          0.9916666666666667,
          0.7005000000000001,
          0.4633333333333334,
          0.9595833333333332,
          0.8527779166666667,
          0.615,
          0.613,
          0.7316666666666667,
          0.9279166666666667,
          0.3633333333333333,
          0.6766666666666667,
          0.3599999999999999,
          0.35416666666666674,
          0.5960481173406875,
          0.385,
          0.4633333333333334,
          0.7349999999999999,
          0.6941666666666666,
          0.84125,
          0.4228333333333332,
          0.9016666666666666,
          0.81125,
          0.5233333333333332,
          0.6341666666666665,
          0.5291666666666668,
          0.6916666666666667,
          0.41833333333333345,
          0.3666666666666667,
          0.5518333333333332,
          0.5633333333333332,
          0.34166666666666656,
          0.3833333333333333,
          0.33499999999999996,
          0.6666666666666667,
          0.7754166666666666,
          0.5960481173406875,
          0.365,
          0.5960481173406875,
          0.5549999999999999,
          0.8438333333333332,
          0.5763333333333334,
          0.349,
          0.43833333333333346,
          0.5416666666666665,
          0.5,
          0.8333333333333333,
          0.3933333333333333,
          0.8,
          0.5968333333333333,
          0.5960481173406875,
          0.5960481173406875,
          0.5960481173406875,
          0.9166666666666665,
          0.4943333333333333,
          0.6000000000000001,
          0.6833333333333333,
          0.4278333333333333,
          0.5008333333333332,
          0.20833333333333337,
          0.5383333333333333,
          0.8999999999999999,
          0.5800000000000001,
          0.6666666666666667,
          0.4583333333333335,
          0.7449999999999999,
          0.35616666666666674,
          0.5722220833333331,
          0.41216666666666657,
          0.6666666666666667,
          0.6200000000000001,
          0.4966666666666666,
          0.5616666666666665,
          0.3883333333333334,
          0.5960481173406875,
          0.54,
          0.605,
          0.3666666666666667,
          0.5960481173406875,
          0.75,
          0.6283333333333334,
          0.5,
          0.4155,
          0.6016666666666666,
          0.5433333333333332,
          0.6916666666666667,
          0.4081666666666668,
          0.5533333333333332,
          0.5960481173406875,
          1,
          0.5066666666666666,
          0.5833333333333333,
          0.6016666666666666,
          0.69,
          0.5633333333333332,
          0.41666666666666674,
          0.7041666666666666,
          0.9166666666666665,
          0.585,
          0.5666666666666667,
          0.625,
          0.68875,
          0.51,
          0.5353333333333332,
          0.7679166666666666,
          0.6949999999999998,
          0.685,
          0.5316666666666665,
          0.655,
          0.7166666666666666,
          0.5549999999999999,
          0.5900000000000001,
          0.7083333333333333,
          0.4733333333333334,
          0.8216666666666668,
          0.875,
          0.33999999999999986,
          0.4750000000000001,
          0.29999999999999993,
          0.6500000000000001,
          0.5960481173406875,
          0.3966666666666667,
          0.4583333333333335,
          0.5960481173406875,
          0.685,
          0.40866666666666673,
          0.5316666666666665,
          0.17166666666666663,
          0.3833333333333333,
          0,
          0.5016666666666665,
          0.48333333333333317,
          0.5900000000000001,
          0.9708333333333334,
          0.6466666666666667,
          0.6500000000000001,
          0.8291666666666666,
          0.43833333333333346,
          0.4916666666666665,
          0.7449999999999999,
          0.34166666666666656,
          0.4221666666666666,
          0.7208333333333334,
          0.3666666666666667,
          0.7166666666666666,
          0.4136666666666666,
          0.4583333333333335,
          0.400625,
          0.6316666666666666,
          0.7216666666666667,
          0.5549999999999999,
          0.5383333333333333,
          0.8191666666666666,
          0.8333333333333333,
          0.47266666666666657,
          0.3518516666666667,
          0.7666666666666666,
          0.5960481173406875,
          0.685,
          0.8104166666666666,
          0.9708333333333334,
          0.8516666666666668,
          0.4716666666666667,
          0.8333333333333333,
          0.8958333333333333,
          0.7166666666666666,
          0.7291666666666667,
          0.4583333333333335
         ],
         "y": [
          0.8526315789473684,
          0.9473684210526315,
          0.8736842105263157,
          0.7789473684210526,
          0.8315789473684211,
          0.7473684210526316,
          0.7263157894736842,
          0,
          0,
          0,
          0.9263157894736842,
          0.7789473684210526,
          0.8631578947368421,
          0.8736842105263157,
          0.9789473684210526,
          0.8526315789473684,
          0,
          0.8210526315789474,
          0.8736842105263157,
          0.9368421052631579,
          0.8631578947368421,
          0.9368421052631579,
          0.8736842105263157,
          0.7157894736842105,
          0.8421052631578947,
          0.8736842105263157,
          0.8736842105263157,
          0.8421052631578947,
          0.8736842105263157,
          0.8736842105263157,
          0.7578947368421053,
          0.8210526315789474,
          0.7789473684210526,
          0.7473684210526316,
          0.8421052631578947,
          0.7578947368421053,
          0,
          0,
          0,
          0.8210526315789474,
          0,
          0.7578947368421053,
          0.8210526315789474,
          0.8736842105263157,
          0.9157894736842105,
          0.9052631578947368,
          0.7578947368421053,
          0,
          0,
          0,
          0.8210526315789474,
          0.8210526315789474,
          0.8210526315789474,
          0.8315789473684211,
          0.8631578947368421,
          0,
          0,
          0.9052631578947368,
          0.9473684210526315,
          0.9368421052631579,
          0.8210526315789474,
          0,
          0,
          0.8210526315789474,
          0.8631578947368421,
          0.8842105263157894,
          0,
          0,
          0.8315789473684211,
          0.8736842105263157,
          0.7578947368421053,
          0.7578947368421053,
          0.8210526315789474,
          0.8631578947368421,
          0.7894736842105263,
          0.8421052631578947,
          0,
          0,
          0.8842105263157894,
          0.9263157894736842,
          0.8736842105263157,
          0.8210526315789474,
          0.8736842105263157,
          0.8736842105263157,
          0.8210526315789474,
          0,
          0.8210526315789474,
          0.7578947368421053,
          0.9368421052631579,
          0.8210526315789474,
          0.8736842105263157,
          0.7684210526315789,
          0.9789473684210526,
          0.8842105263157894,
          0.8947368421052632,
          0,
          0.9368421052631579,
          0.7578947368421053,
          0,
          0.9368421052631579,
          0.8210526315789474,
          0.9578947368421052,
          0.8315789473684211,
          0.7894736842105263,
          0.8526315789473684,
          0.8736842105263157,
          0.8631578947368421,
          0.9157894736842105,
          0.8736842105263157,
          0.8210526315789474,
          0.8210526315789474,
          0.8210526315789474,
          0.9157894736842105,
          0.8736842105263157,
          0,
          0.8210526315789474,
          0.8736842105263157,
          0.9052631578947368,
          0.7684210526315789,
          0.8736842105263157,
          1,
          0.8526315789473684,
          0.8210526315789474,
          0.8842105263157894,
          0.8631578947368421,
          0.8736842105263157,
          0.9157894736842105,
          0.7894736842105263,
          0.9263157894736842,
          0,
          0.9052631578947368,
          0.8736842105263157,
          0.9789473684210526,
          0.8736842105263157,
          0.7578947368421053,
          0.8736842105263157,
          0.8736842105263157,
          0,
          0.7684210526315789,
          0.9368421052631579,
          0.9368421052631579,
          0.9789473684210526,
          0.7368421052631579,
          0.8210526315789474,
          0.9263157894736842,
          0.8526315789473684,
          0.8947368421052632,
          0,
          0.8210526315789474,
          0.7684210526315789,
          0,
          0,
          0,
          0.7789473684210526,
          0.8736842105263157,
          0.8947368421052632,
          0.9263157894736842,
          0.8421052631578947,
          0.7052631578947368,
          0.7999999999999999,
          0.8736842105263157,
          0.8421052631578947,
          0.8210526315789474,
          0,
          0.8736842105263157,
          0.8736842105263157,
          0.7789473684210526,
          0.8210526315789474,
          0.7999999999999999,
          0.8736842105263157,
          0.8736842105263157,
          0.8210526315789474,
          0.7578947368421053,
          0.7052631578947368,
          0.8736842105263157,
          0.8210526315789474,
          0.9368421052631579,
          0.8842105263157894,
          0.8421052631578947,
          0.8210526315789474,
          0,
          0,
          0.8736842105263157,
          0.8210526315789474,
          0.9263157894736842,
          0.8421052631578947,
          0.7894736842105263,
          0.8315789473684211,
          0.8736842105263157,
          0,
          0.8947368421052632,
          0.8736842105263157,
          0.8736842105263157,
          0.7894736842105263,
          0.7999999999999999,
          0.7894736842105263,
          0.7684210526315789,
          0,
          0.8736842105263157,
          0.8210526315789474,
          0.7578947368421053,
          0.7578947368421053,
          0.9263157894736842,
          0.9473684210526315,
          0.7578947368421053,
          0.7684210526315789,
          0,
          0,
          0.8736842105263157,
          0.8736842105263157,
          0.8736842105263157,
          0.9157894736842105,
          0.8421052631578947,
          0.8210526315789474,
          0.7789473684210526,
          0.9368421052631579,
          0.7684210526315789,
          0.7263157894736842,
          0.9368421052631579,
          0.8210526315789474,
          0.7999999999999999,
          0.8631578947368421,
          0.9263157894736842,
          0,
          0,
          0.7052631578947368,
          0,
          0.8210526315789474,
          0.8736842105263157,
          0,
          0.8315789473684211,
          0,
          0,
          0.7894736842105263,
          0.9368421052631579,
          0.8210526315789474,
          0.8315789473684211,
          0.7999999999999999,
          0.8105263157894737,
          0.9368421052631579,
          0.8210526315789474,
          0.9157894736842105,
          0.8210526315789474,
          0,
          0.7578947368421053,
          0.7578947368421053,
          0.8210526315789474,
          0,
          0.9894736842105263,
          0.8210526315789474,
          0.8315789473684211,
          0.8210526315789474,
          0.8736842105263157,
          0.7789473684210526,
          0.7684210526315789,
          0.8105263157894737,
          0.968421052631579,
          0.8210526315789474,
          0.9263157894736842,
          0.8210526315789474,
          0,
          0,
          0.8210526315789474,
          0.8736842105263157,
          0,
          0.8210526315789474,
          0.8736842105263157,
          0.9052631578947368,
          0.8736842105263157,
          0.7578947368421053,
          0,
          0.7263157894736842,
          0,
          0.8210526315789474,
          0,
          0.7894736842105263,
          0.8105263157894737,
          0.9473684210526315,
          0.8842105263157894,
          0.8210526315789474,
          0,
          0,
          0.9473684210526315,
          0.8210526315789474,
          0.8210526315789474,
          0,
          0.8105263157894737,
          0,
          0,
          0,
          0,
          0,
          0,
          0,
          0,
          0.8736842105263157
         ],
         "z": [
          0.9285714285714285,
          0.9387755102040816,
          0.9081632653061223,
          0,
          0.9285714285714285,
          0.8979591836734693,
          0.9183673469387754,
          0,
          0.846938775510204,
          0,
          0.9693877551020408,
          0.9183673469387754,
          0,
          0,
          0.9489795918367346,
          0.9183673469387754,
          0,
          0.9591836734693877,
          0.9081632653061223,
          0.9183673469387754,
          0.9081632653061223,
          0.9285714285714285,
          0.9183673469387754,
          0.9183673469387754,
          0.9285714285714285,
          0.9591836734693877,
          0,
          0.9285714285714285,
          0.9285714285714285,
          0,
          0,
          0.9285714285714285,
          0.9081632653061223,
          0.9183673469387754,
          0.9387755102040816,
          0.9081632653061223,
          0,
          0,
          0,
          0.9489795918367346,
          0.9387755102040816,
          0.8979591836734693,
          0.9387755102040816,
          0.9387755102040816,
          0.9183673469387754,
          0.9183673469387754,
          0.846938775510204,
          0.4591836734693877,
          0,
          0.9285714285714285,
          0.9285714285714285,
          0,
          0.9591836734693877,
          0.9285714285714285,
          0.9489795918367346,
          0,
          0.9081632653061223,
          0.9285714285714285,
          0.846938775510204,
          0.9081632653061223,
          0.9183673469387754,
          0,
          0,
          0.9081632653061223,
          0.9183673469387754,
          0.9591836734693877,
          0,
          0.673469387755102,
          0.9489795918367346,
          0.7755102040816326,
          0.7142857142857142,
          0,
          0,
          0.9285714285714285,
          0.9183673469387754,
          0.9285714285714285,
          0,
          0.673469387755102,
          0.7551020408163265,
          0.9693877551020408,
          0.9285714285714285,
          0.9285714285714285,
          0,
          0.9081632653061223,
          0,
          0,
          0.8979591836734693,
          0.49999999999999994,
          0.9285714285714285,
          0,
          0.9183673469387754,
          0.9081632653061223,
          0.9489795918367346,
          0.9285714285714285,
          0.9387755102040816,
          0,
          0.8979591836734693,
          0.7244897959183673,
          0,
          0.9489795918367346,
          0.9285714285714285,
          0.9591836734693877,
          0.9285714285714285,
          0.8775510204081632,
          0,
          0.9285714285714285,
          0.9387755102040816,
          0.9693877551020408,
          0.9387755102040816,
          0,
          0.9285714285714285,
          0,
          0.9489795918367346,
          0.9285714285714285,
          0,
          0.8877551020408162,
          0.7448979591836734,
          0.9489795918367346,
          0.8877551020408162,
          0,
          0.9591836734693877,
          0.8775510204081632,
          0.8979591836734693,
          0.9183673469387754,
          0,
          0.8979591836734693,
          0.9795918367346939,
          0,
          0.9489795918367346,
          0,
          0.9387755102040816,
          0.8775510204081632,
          0,
          0,
          0.9387755102040816,
          0.9387755102040816,
          0.9387755102040816,
          0,
          0.9081632653061223,
          0,
          0.9795918367346939,
          0.9081632653061223,
          0.9081632653061223,
          0.9081632653061223,
          0.9183673469387754,
          0.8979591836734693,
          0.9387755102040816,
          0,
          0.9591836734693877,
          0,
          0,
          0.6530612244897959,
          0.8775510204081632,
          0.9285714285714285,
          0.8775510204081632,
          0.9387755102040816,
          0.9693877551020408,
          0.9285714285714285,
          0.8979591836734693,
          0.9081632653061223,
          0.8877551020408162,
          0.9081632653061223,
          0.9591836734693877,
          0,
          0.9591836734693877,
          0.9081632653061223,
          0,
          0.9591836734693877,
          0.9183673469387754,
          0.9285714285714285,
          0,
          0.9489795918367346,
          0.8979591836734693,
          0.9183673469387754,
          0.9081632653061223,
          0.9285714285714285,
          0.9591836734693877,
          0.9489795918367346,
          0,
          0.9387755102040816,
          0,
          0,
          0,
          0,
          0.9285714285714285,
          0.9183673469387754,
          0.9285714285714285,
          0.9183673469387754,
          0,
          0.5612244897959183,
          0,
          0.9081632653061223,
          0.9081632653061223,
          0.9285714285714285,
          0.8979591836734693,
          0.8673469387755102,
          0.8571428571428571,
          0,
          0.9489795918367346,
          0.9387755102040816,
          0.9081632653061223,
          0.8979591836734693,
          0.9489795918367346,
          0,
          0.9897959183673468,
          0.8979591836734693,
          0,
          0,
          0.9081632653061223,
          0.9081632653061223,
          0.9081632653061223,
          0.9387755102040816,
          0.8979591836734693,
          0.9183673469387754,
          0,
          0.9591836734693877,
          0.8877551020408162,
          0.8673469387755102,
          0.9591836734693877,
          0.9387755102040816,
          0.9285714285714285,
          0.8775510204081632,
          0.9489795918367346,
          0.9999999999999999,
          0,
          0,
          0,
          0.9387755102040816,
          0.8979591836734693,
          0,
          0.9183673469387754,
          0,
          0,
          0.9183673469387754,
          0.9183673469387754,
          0.9387755102040816,
          0.8775510204081632,
          0.8673469387755102,
          0.9183673469387754,
          0.9183673469387754,
          0.9183673469387754,
          0.9285714285714285,
          0,
          0,
          0.8877551020408162,
          0,
          0,
          0,
          0.9489795918367346,
          0.9285714285714285,
          0,
          0.8775510204081632,
          0,
          0,
          0.9285714285714285,
          0.9285714285714285,
          0.9387755102040816,
          0,
          0.9489795918367346,
          0.9183673469387754,
          0.9081632653061223,
          0,
          0.9285714285714285,
          0.9081632653061223,
          0,
          0.9183673469387754,
          0,
          0.9285714285714285,
          0.8265306122448979,
          0.9081632653061223,
          0,
          0.8979591836734693,
          0,
          0.9387755102040816,
          0.9285714285714285,
          0.8979591836734693,
          0,
          0.9489795918367346,
          0.9183673469387754,
          0.8775510204081632,
          0,
          0,
          0.9489795918367346,
          0,
          0.9387755102040816,
          0,
          0.9081632653061223,
          0.8265306122448979,
          0,
          0,
          0.8979591836734693,
          0,
          0,
          0,
          0,
          0.9081632653061223
         ]
        }
       ],
       "layout": {
        "height": 800,
        "margin": {
         "l": 0,
         "r": 0
        },
        "scene": {
         "xaxis": {
          "title": {
           "text": "sepal_length -->"
          }
         },
         "yaxis": {
          "title": {
           "text": "sepal_width--->"
          }
         },
         "zaxis": {
          "title": {
           "text": "petal_length-->"
          }
         }
        },
        "template": {
         "data": {
          "bar": [
           {
            "error_x": {
             "color": "#2a3f5f"
            },
            "error_y": {
             "color": "#2a3f5f"
            },
            "marker": {
             "line": {
              "color": "#E5ECF6",
              "width": 0.5
             },
             "pattern": {
              "fillmode": "overlay",
              "size": 10,
              "solidity": 0.2
             }
            },
            "type": "bar"
           }
          ],
          "barpolar": [
           {
            "marker": {
             "line": {
              "color": "#E5ECF6",
              "width": 0.5
             },
             "pattern": {
              "fillmode": "overlay",
              "size": 10,
              "solidity": 0.2
             }
            },
            "type": "barpolar"
           }
          ],
          "carpet": [
           {
            "aaxis": {
             "endlinecolor": "#2a3f5f",
             "gridcolor": "white",
             "linecolor": "white",
             "minorgridcolor": "white",
             "startlinecolor": "#2a3f5f"
            },
            "baxis": {
             "endlinecolor": "#2a3f5f",
             "gridcolor": "white",
             "linecolor": "white",
             "minorgridcolor": "white",
             "startlinecolor": "#2a3f5f"
            },
            "type": "carpet"
           }
          ],
          "choropleth": [
           {
            "colorbar": {
             "outlinewidth": 0,
             "ticks": ""
            },
            "type": "choropleth"
           }
          ],
          "contour": [
           {
            "colorbar": {
             "outlinewidth": 0,
             "ticks": ""
            },
            "colorscale": [
             [
              0,
              "#0d0887"
             ],
             [
              0.1111111111111111,
              "#46039f"
             ],
             [
              0.2222222222222222,
              "#7201a8"
             ],
             [
              0.3333333333333333,
              "#9c179e"
             ],
             [
              0.4444444444444444,
              "#bd3786"
             ],
             [
              0.5555555555555556,
              "#d8576b"
             ],
             [
              0.6666666666666666,
              "#ed7953"
             ],
             [
              0.7777777777777778,
              "#fb9f3a"
             ],
             [
              0.8888888888888888,
              "#fdca26"
             ],
             [
              1,
              "#f0f921"
             ]
            ],
            "type": "contour"
           }
          ],
          "contourcarpet": [
           {
            "colorbar": {
             "outlinewidth": 0,
             "ticks": ""
            },
            "type": "contourcarpet"
           }
          ],
          "heatmap": [
           {
            "colorbar": {
             "outlinewidth": 0,
             "ticks": ""
            },
            "colorscale": [
             [
              0,
              "#0d0887"
             ],
             [
              0.1111111111111111,
              "#46039f"
             ],
             [
              0.2222222222222222,
              "#7201a8"
             ],
             [
              0.3333333333333333,
              "#9c179e"
             ],
             [
              0.4444444444444444,
              "#bd3786"
             ],
             [
              0.5555555555555556,
              "#d8576b"
             ],
             [
              0.6666666666666666,
              "#ed7953"
             ],
             [
              0.7777777777777778,
              "#fb9f3a"
             ],
             [
              0.8888888888888888,
              "#fdca26"
             ],
             [
              1,
              "#f0f921"
             ]
            ],
            "type": "heatmap"
           }
          ],
          "heatmapgl": [
           {
            "colorbar": {
             "outlinewidth": 0,
             "ticks": ""
            },
            "colorscale": [
             [
              0,
              "#0d0887"
             ],
             [
              0.1111111111111111,
              "#46039f"
             ],
             [
              0.2222222222222222,
              "#7201a8"
             ],
             [
              0.3333333333333333,
              "#9c179e"
             ],
             [
              0.4444444444444444,
              "#bd3786"
             ],
             [
              0.5555555555555556,
              "#d8576b"
             ],
             [
              0.6666666666666666,
              "#ed7953"
             ],
             [
              0.7777777777777778,
              "#fb9f3a"
             ],
             [
              0.8888888888888888,
              "#fdca26"
             ],
             [
              1,
              "#f0f921"
             ]
            ],
            "type": "heatmapgl"
           }
          ],
          "histogram": [
           {
            "marker": {
             "pattern": {
              "fillmode": "overlay",
              "size": 10,
              "solidity": 0.2
             }
            },
            "type": "histogram"
           }
          ],
          "histogram2d": [
           {
            "colorbar": {
             "outlinewidth": 0,
             "ticks": ""
            },
            "colorscale": [
             [
              0,
              "#0d0887"
             ],
             [
              0.1111111111111111,
              "#46039f"
             ],
             [
              0.2222222222222222,
              "#7201a8"
             ],
             [
              0.3333333333333333,
              "#9c179e"
             ],
             [
              0.4444444444444444,
              "#bd3786"
             ],
             [
              0.5555555555555556,
              "#d8576b"
             ],
             [
              0.6666666666666666,
              "#ed7953"
             ],
             [
              0.7777777777777778,
              "#fb9f3a"
             ],
             [
              0.8888888888888888,
              "#fdca26"
             ],
             [
              1,
              "#f0f921"
             ]
            ],
            "type": "histogram2d"
           }
          ],
          "histogram2dcontour": [
           {
            "colorbar": {
             "outlinewidth": 0,
             "ticks": ""
            },
            "colorscale": [
             [
              0,
              "#0d0887"
             ],
             [
              0.1111111111111111,
              "#46039f"
             ],
             [
              0.2222222222222222,
              "#7201a8"
             ],
             [
              0.3333333333333333,
              "#9c179e"
             ],
             [
              0.4444444444444444,
              "#bd3786"
             ],
             [
              0.5555555555555556,
              "#d8576b"
             ],
             [
              0.6666666666666666,
              "#ed7953"
             ],
             [
              0.7777777777777778,
              "#fb9f3a"
             ],
             [
              0.8888888888888888,
              "#fdca26"
             ],
             [
              1,
              "#f0f921"
             ]
            ],
            "type": "histogram2dcontour"
           }
          ],
          "mesh3d": [
           {
            "colorbar": {
             "outlinewidth": 0,
             "ticks": ""
            },
            "type": "mesh3d"
           }
          ],
          "parcoords": [
           {
            "line": {
             "colorbar": {
              "outlinewidth": 0,
              "ticks": ""
             }
            },
            "type": "parcoords"
           }
          ],
          "pie": [
           {
            "automargin": true,
            "type": "pie"
           }
          ],
          "scatter": [
           {
            "fillpattern": {
             "fillmode": "overlay",
             "size": 10,
             "solidity": 0.2
            },
            "type": "scatter"
           }
          ],
          "scatter3d": [
           {
            "line": {
             "colorbar": {
              "outlinewidth": 0,
              "ticks": ""
             }
            },
            "marker": {
             "colorbar": {
              "outlinewidth": 0,
              "ticks": ""
             }
            },
            "type": "scatter3d"
           }
          ],
          "scattercarpet": [
           {
            "marker": {
             "colorbar": {
              "outlinewidth": 0,
              "ticks": ""
             }
            },
            "type": "scattercarpet"
           }
          ],
          "scattergeo": [
           {
            "marker": {
             "colorbar": {
              "outlinewidth": 0,
              "ticks": ""
             }
            },
            "type": "scattergeo"
           }
          ],
          "scattergl": [
           {
            "marker": {
             "colorbar": {
              "outlinewidth": 0,
              "ticks": ""
             }
            },
            "type": "scattergl"
           }
          ],
          "scattermapbox": [
           {
            "marker": {
             "colorbar": {
              "outlinewidth": 0,
              "ticks": ""
             }
            },
            "type": "scattermapbox"
           }
          ],
          "scatterpolar": [
           {
            "marker": {
             "colorbar": {
              "outlinewidth": 0,
              "ticks": ""
             }
            },
            "type": "scatterpolar"
           }
          ],
          "scatterpolargl": [
           {
            "marker": {
             "colorbar": {
              "outlinewidth": 0,
              "ticks": ""
             }
            },
            "type": "scatterpolargl"
           }
          ],
          "scatterternary": [
           {
            "marker": {
             "colorbar": {
              "outlinewidth": 0,
              "ticks": ""
             }
            },
            "type": "scatterternary"
           }
          ],
          "surface": [
           {
            "colorbar": {
             "outlinewidth": 0,
             "ticks": ""
            },
            "colorscale": [
             [
              0,
              "#0d0887"
             ],
             [
              0.1111111111111111,
              "#46039f"
             ],
             [
              0.2222222222222222,
              "#7201a8"
             ],
             [
              0.3333333333333333,
              "#9c179e"
             ],
             [
              0.4444444444444444,
              "#bd3786"
             ],
             [
              0.5555555555555556,
              "#d8576b"
             ],
             [
              0.6666666666666666,
              "#ed7953"
             ],
             [
              0.7777777777777778,
              "#fb9f3a"
             ],
             [
              0.8888888888888888,
              "#fdca26"
             ],
             [
              1,
              "#f0f921"
             ]
            ],
            "type": "surface"
           }
          ],
          "table": [
           {
            "cells": {
             "fill": {
              "color": "#EBF0F8"
             },
             "line": {
              "color": "white"
             }
            },
            "header": {
             "fill": {
              "color": "#C8D4E3"
             },
             "line": {
              "color": "white"
             }
            },
            "type": "table"
           }
          ]
         },
         "layout": {
          "annotationdefaults": {
           "arrowcolor": "#2a3f5f",
           "arrowhead": 0,
           "arrowwidth": 1
          },
          "autotypenumbers": "strict",
          "coloraxis": {
           "colorbar": {
            "outlinewidth": 0,
            "ticks": ""
           }
          },
          "colorscale": {
           "diverging": [
            [
             0,
             "#8e0152"
            ],
            [
             0.1,
             "#c51b7d"
            ],
            [
             0.2,
             "#de77ae"
            ],
            [
             0.3,
             "#f1b6da"
            ],
            [
             0.4,
             "#fde0ef"
            ],
            [
             0.5,
             "#f7f7f7"
            ],
            [
             0.6,
             "#e6f5d0"
            ],
            [
             0.7,
             "#b8e186"
            ],
            [
             0.8,
             "#7fbc41"
            ],
            [
             0.9,
             "#4d9221"
            ],
            [
             1,
             "#276419"
            ]
           ],
           "sequential": [
            [
             0,
             "#0d0887"
            ],
            [
             0.1111111111111111,
             "#46039f"
            ],
            [
             0.2222222222222222,
             "#7201a8"
            ],
            [
             0.3333333333333333,
             "#9c179e"
            ],
            [
             0.4444444444444444,
             "#bd3786"
            ],
            [
             0.5555555555555556,
             "#d8576b"
            ],
            [
             0.6666666666666666,
             "#ed7953"
            ],
            [
             0.7777777777777778,
             "#fb9f3a"
            ],
            [
             0.8888888888888888,
             "#fdca26"
            ],
            [
             1,
             "#f0f921"
            ]
           ],
           "sequentialminus": [
            [
             0,
             "#0d0887"
            ],
            [
             0.1111111111111111,
             "#46039f"
            ],
            [
             0.2222222222222222,
             "#7201a8"
            ],
            [
             0.3333333333333333,
             "#9c179e"
            ],
            [
             0.4444444444444444,
             "#bd3786"
            ],
            [
             0.5555555555555556,
             "#d8576b"
            ],
            [
             0.6666666666666666,
             "#ed7953"
            ],
            [
             0.7777777777777778,
             "#fb9f3a"
            ],
            [
             0.8888888888888888,
             "#fdca26"
            ],
            [
             1,
             "#f0f921"
            ]
           ]
          },
          "colorway": [
           "#636efa",
           "#EF553B",
           "#00cc96",
           "#ab63fa",
           "#FFA15A",
           "#19d3f3",
           "#FF6692",
           "#B6E880",
           "#FF97FF",
           "#FECB52"
          ],
          "font": {
           "color": "#2a3f5f"
          },
          "geo": {
           "bgcolor": "white",
           "lakecolor": "white",
           "landcolor": "#E5ECF6",
           "showlakes": true,
           "showland": true,
           "subunitcolor": "white"
          },
          "hoverlabel": {
           "align": "left"
          },
          "hovermode": "closest",
          "mapbox": {
           "style": "light"
          },
          "paper_bgcolor": "white",
          "plot_bgcolor": "#E5ECF6",
          "polar": {
           "angularaxis": {
            "gridcolor": "white",
            "linecolor": "white",
            "ticks": ""
           },
           "bgcolor": "#E5ECF6",
           "radialaxis": {
            "gridcolor": "white",
            "linecolor": "white",
            "ticks": ""
           }
          },
          "scene": {
           "xaxis": {
            "backgroundcolor": "#E5ECF6",
            "gridcolor": "white",
            "gridwidth": 2,
            "linecolor": "white",
            "showbackground": true,
            "ticks": "",
            "zerolinecolor": "white"
           },
           "yaxis": {
            "backgroundcolor": "#E5ECF6",
            "gridcolor": "white",
            "gridwidth": 2,
            "linecolor": "white",
            "showbackground": true,
            "ticks": "",
            "zerolinecolor": "white"
           },
           "zaxis": {
            "backgroundcolor": "#E5ECF6",
            "gridcolor": "white",
            "gridwidth": 2,
            "linecolor": "white",
            "showbackground": true,
            "ticks": "",
            "zerolinecolor": "white"
           }
          },
          "shapedefaults": {
           "line": {
            "color": "#2a3f5f"
           }
          },
          "ternary": {
           "aaxis": {
            "gridcolor": "white",
            "linecolor": "white",
            "ticks": ""
           },
           "baxis": {
            "gridcolor": "white",
            "linecolor": "white",
            "ticks": ""
           },
           "bgcolor": "#E5ECF6",
           "caxis": {
            "gridcolor": "white",
            "linecolor": "white",
            "ticks": ""
           }
          },
          "title": {
           "x": 0.05
          },
          "xaxis": {
           "automargin": true,
           "gridcolor": "white",
           "linecolor": "white",
           "ticks": "",
           "title": {
            "standoff": 15
           },
           "zerolinecolor": "white",
           "zerolinewidth": 2
          },
          "yaxis": {
           "automargin": true,
           "gridcolor": "white",
           "linecolor": "white",
           "ticks": "",
           "title": {
            "standoff": 15
           },
           "zerolinecolor": "white",
           "zerolinewidth": 2
          }
         }
        },
        "width": 800
       }
      },
      "text/html": [
       "<div>                            <div id=\"d9bd2e1b-825c-41dd-a303-eaf2eefd5f70\" class=\"plotly-graph-div\" style=\"height:800px; width:800px;\"></div>            <script type=\"text/javascript\">                require([\"plotly\"], function(Plotly) {                    window.PLOTLYENV=window.PLOTLYENV || {};                                    if (document.getElementById(\"d9bd2e1b-825c-41dd-a303-eaf2eefd5f70\")) {                    Plotly.newPlot(                        \"d9bd2e1b-825c-41dd-a303-eaf2eefd5f70\",                        [{\"marker\":{\"color\":[1,1,3,0,3,1,1,2,1,2,1,1,0,0,1,1,2,1,1,1,1,1,3,1,1,1,0,1,1,3,3,1,1,1,1,1,2,2,2,1,3,1,1,1,1,1,1,1,2,3,1,0,1,1,1,2,2,3,0,3,3,2,2,1,1,1,2,2,1,3,1,0,0,3,3,1,2,2,1,3,1,1,1,1,0,2,1,3,1,0,1,1,1,1,1,2,1,1,2,3,1,3,1,1,3,3,1,1,1,3,1,0,1,1,2,1,1,3,3,0,1,1,3,1,3,1,1,0,3,2,1,1,0,0,1,1,1,2,1,0,1,1,1,1,1,1,1,2,1,2,2,2,2,1,1,3,1,1,1,1,3,3,1,2,1,1,0,3,1,1,3,1,1,1,1,1,1,1,0,1,2,2,0,0,1,1,1,1,0,3,3,1,3,1,1,0,1,2,3,1,1,1,1,0,1,3,0,2,1,1,1,3,1,1,0,1,1,3,1,1,1,1,1,2,2,3,0,1,1,2,1,0,2,1,3,1,1,3,3,1,1,1,0,2,1,0,0,0,1,1,1,3,0,0,1,1,1,0,1,1,3,2,1,1,2,1,0,3,1,1,2,1,0,1,2,1,0,1,1,1,2,2,1,0,1,2,1,2,2,2,1,2,2,2,2,1],\"line\":{\"color\":\"black\",\"width\":10},\"size\":10},\"mode\":\"markers\",\"x\":[0.8033333333333332,0.6000000000000001,0.9766666666666666,0.5819999999999999,0.875,0.3899999999999999,0.48333333333333317,0.5,0.0,0.6708333333333334,0.8516666666666668,0.6406666666666667,0.8958333333333333,0.5216666666666665,0.5363333333333333,0.7916666666666667,0.7916666666666667,0.8600000000000001,0.9166666666666665,0.5175000000000001,0.3899999999999999,0.6358333333333333,0.5800000000000001,0.5416666666666665,0.41666666666666674,0.6466666666666667,0.5349999999999999,0.4750000000000001,0.44333333333333336,0.5716666666666665,0.75,0.7816666666666667,0.7083333333333333,0.5960481173406875,0.6066666666666667,0.5328333333333333,0.7349999999999999,0.5960481173406875,0.7166666666666666,0.5416666666666665,0.44999999999999996,0.4566666666666668,0.5506666666666666,0.45500000000000007,0.637,0.6700000000000002,0.36283333333333334,0.95,0.8125,0.5960481173406875,0.3016666666666665,0.7083333333333333,0.7916666666666667,0.5960481173406875,0.4159999999999999,0.7429166666666667,0.6791666666666667,0.5433333333333332,0.7316666666666667,0.7531666666666665,0.7090000000000001,0.5960481173406875,0.60375,0.40666666666666673,0.9166666666666665,0.37116666666666664,0.8333333333333333,0.6666666666666667,0.40700000000000003,0.6333333333333333,0.9416666666666667,0.5833333333333333,0.5049999999999999,0.6316666666666666,0.5960481173406875,0.7983333333333333,0.8333333333333333,0.5960481173406875,0.6033333333333333,0.8700000000000001,0.6833333333333333,0.3621666666666665,0.6333333333333333,0.5561666666666667,0.5683333333333334,0.5416666666666665,0.44166666666666665,0.5833333333333333,0.685,0.665,0.5553333333333332,0.8361112499999999,0.5960481173406875,0.5083333333333333,0.4650000000000001,0.75,0.6083333333333334,0.47916666666666674,0.5508333333333333,0.3878333333333335,0.6333333333333333,0.625,0.5800000000000001,0.5960481173406875,0.5960481173406875,0.5716666666666665,0.5766666666666667,0.4224999999999999,0.4866666666666666,0.5960481173406875,0.6916666666666667,0.7483333333333333,0.32066666666666666,0.635,0.7291666666666667,0.5960481173406875,0.29999999999999993,0.8875,0.33333333333333326,0.5283333333333333,0.4796666666666667,0.3999999999999999,0.6216666666666666,0.44166666666666665,0.3976666666666666,0.5833333333333333,0.43333333333333335,0.6800000000000002,0.5133333333333332,0.9916666666666667,0.7005000000000001,0.4633333333333334,0.9595833333333332,0.8527779166666667,0.615,0.613,0.7316666666666667,0.9279166666666667,0.3633333333333333,0.6766666666666667,0.3599999999999999,0.35416666666666674,0.5960481173406875,0.385,0.4633333333333334,0.7349999999999999,0.6941666666666666,0.84125,0.4228333333333332,0.9016666666666666,0.81125,0.5233333333333332,0.6341666666666665,0.5291666666666668,0.6916666666666667,0.41833333333333345,0.3666666666666667,0.5518333333333332,0.5633333333333332,0.34166666666666656,0.3833333333333333,0.33499999999999996,0.6666666666666667,0.7754166666666666,0.5960481173406875,0.365,0.5960481173406875,0.5549999999999999,0.8438333333333332,0.5763333333333334,0.349,0.43833333333333346,0.5416666666666665,0.5,0.8333333333333333,0.3933333333333333,0.8,0.5968333333333333,0.5960481173406875,0.5960481173406875,0.5960481173406875,0.9166666666666665,0.4943333333333333,0.6000000000000001,0.6833333333333333,0.4278333333333333,0.5008333333333332,0.20833333333333337,0.5383333333333333,0.8999999999999999,0.5800000000000001,0.6666666666666667,0.4583333333333335,0.7449999999999999,0.35616666666666674,0.5722220833333331,0.41216666666666657,0.6666666666666667,0.6200000000000001,0.4966666666666666,0.5616666666666665,0.3883333333333334,0.5960481173406875,0.54,0.605,0.3666666666666667,0.5960481173406875,0.75,0.6283333333333334,0.5,0.4155,0.6016666666666666,0.5433333333333332,0.6916666666666667,0.4081666666666668,0.5533333333333332,0.5960481173406875,1.0,0.5066666666666666,0.5833333333333333,0.6016666666666666,0.69,0.5633333333333332,0.41666666666666674,0.7041666666666666,0.9166666666666665,0.585,0.5666666666666667,0.625,0.68875,0.51,0.5353333333333332,0.7679166666666666,0.6949999999999998,0.685,0.5316666666666665,0.655,0.7166666666666666,0.5549999999999999,0.5900000000000001,0.7083333333333333,0.4733333333333334,0.8216666666666668,0.875,0.33999999999999986,0.4750000000000001,0.29999999999999993,0.6500000000000001,0.5960481173406875,0.3966666666666667,0.4583333333333335,0.5960481173406875,0.685,0.40866666666666673,0.5316666666666665,0.17166666666666663,0.3833333333333333,0.0,0.5016666666666665,0.48333333333333317,0.5900000000000001,0.9708333333333334,0.6466666666666667,0.6500000000000001,0.8291666666666666,0.43833333333333346,0.4916666666666665,0.7449999999999999,0.34166666666666656,0.4221666666666666,0.7208333333333334,0.3666666666666667,0.7166666666666666,0.4136666666666666,0.4583333333333335,0.400625,0.6316666666666666,0.7216666666666667,0.5549999999999999,0.5383333333333333,0.8191666666666666,0.8333333333333333,0.47266666666666657,0.3518516666666667,0.7666666666666666,0.5960481173406875,0.685,0.8104166666666666,0.9708333333333334,0.8516666666666668,0.4716666666666667,0.8333333333333333,0.8958333333333333,0.7166666666666666,0.7291666666666667,0.4583333333333335],\"y\":[0.8526315789473684,0.9473684210526315,0.8736842105263157,0.7789473684210526,0.8315789473684211,0.7473684210526316,0.7263157894736842,0.0,0.0,0.0,0.9263157894736842,0.7789473684210526,0.8631578947368421,0.8736842105263157,0.9789473684210526,0.8526315789473684,0.0,0.8210526315789474,0.8736842105263157,0.9368421052631579,0.8631578947368421,0.9368421052631579,0.8736842105263157,0.7157894736842105,0.8421052631578947,0.8736842105263157,0.8736842105263157,0.8421052631578947,0.8736842105263157,0.8736842105263157,0.7578947368421053,0.8210526315789474,0.7789473684210526,0.7473684210526316,0.8421052631578947,0.7578947368421053,0.0,0.0,0.0,0.8210526315789474,0.0,0.7578947368421053,0.8210526315789474,0.8736842105263157,0.9157894736842105,0.9052631578947368,0.7578947368421053,0.0,0.0,0.0,0.8210526315789474,0.8210526315789474,0.8210526315789474,0.8315789473684211,0.8631578947368421,0.0,0.0,0.9052631578947368,0.9473684210526315,0.9368421052631579,0.8210526315789474,0.0,0.0,0.8210526315789474,0.8631578947368421,0.8842105263157894,0.0,0.0,0.8315789473684211,0.8736842105263157,0.7578947368421053,0.7578947368421053,0.8210526315789474,0.8631578947368421,0.7894736842105263,0.8421052631578947,0.0,0.0,0.8842105263157894,0.9263157894736842,0.8736842105263157,0.8210526315789474,0.8736842105263157,0.8736842105263157,0.8210526315789474,0.0,0.8210526315789474,0.7578947368421053,0.9368421052631579,0.8210526315789474,0.8736842105263157,0.7684210526315789,0.9789473684210526,0.8842105263157894,0.8947368421052632,0.0,0.9368421052631579,0.7578947368421053,0.0,0.9368421052631579,0.8210526315789474,0.9578947368421052,0.8315789473684211,0.7894736842105263,0.8526315789473684,0.8736842105263157,0.8631578947368421,0.9157894736842105,0.8736842105263157,0.8210526315789474,0.8210526315789474,0.8210526315789474,0.9157894736842105,0.8736842105263157,0.0,0.8210526315789474,0.8736842105263157,0.9052631578947368,0.7684210526315789,0.8736842105263157,1.0,0.8526315789473684,0.8210526315789474,0.8842105263157894,0.8631578947368421,0.8736842105263157,0.9157894736842105,0.7894736842105263,0.9263157894736842,0.0,0.9052631578947368,0.8736842105263157,0.9789473684210526,0.8736842105263157,0.7578947368421053,0.8736842105263157,0.8736842105263157,0.0,0.7684210526315789,0.9368421052631579,0.9368421052631579,0.9789473684210526,0.7368421052631579,0.8210526315789474,0.9263157894736842,0.8526315789473684,0.8947368421052632,0.0,0.8210526315789474,0.7684210526315789,0.0,0.0,0.0,0.7789473684210526,0.8736842105263157,0.8947368421052632,0.9263157894736842,0.8421052631578947,0.7052631578947368,0.7999999999999999,0.8736842105263157,0.8421052631578947,0.8210526315789474,0.0,0.8736842105263157,0.8736842105263157,0.7789473684210526,0.8210526315789474,0.7999999999999999,0.8736842105263157,0.8736842105263157,0.8210526315789474,0.7578947368421053,0.7052631578947368,0.8736842105263157,0.8210526315789474,0.9368421052631579,0.8842105263157894,0.8421052631578947,0.8210526315789474,0.0,0.0,0.8736842105263157,0.8210526315789474,0.9263157894736842,0.8421052631578947,0.7894736842105263,0.8315789473684211,0.8736842105263157,0.0,0.8947368421052632,0.8736842105263157,0.8736842105263157,0.7894736842105263,0.7999999999999999,0.7894736842105263,0.7684210526315789,0.0,0.8736842105263157,0.8210526315789474,0.7578947368421053,0.7578947368421053,0.9263157894736842,0.9473684210526315,0.7578947368421053,0.7684210526315789,0.0,0.0,0.8736842105263157,0.8736842105263157,0.8736842105263157,0.9157894736842105,0.8421052631578947,0.8210526315789474,0.7789473684210526,0.9368421052631579,0.7684210526315789,0.7263157894736842,0.9368421052631579,0.8210526315789474,0.7999999999999999,0.8631578947368421,0.9263157894736842,0.0,0.0,0.7052631578947368,0.0,0.8210526315789474,0.8736842105263157,0.0,0.8315789473684211,0.0,0.0,0.7894736842105263,0.9368421052631579,0.8210526315789474,0.8315789473684211,0.7999999999999999,0.8105263157894737,0.9368421052631579,0.8210526315789474,0.9157894736842105,0.8210526315789474,0.0,0.7578947368421053,0.7578947368421053,0.8210526315789474,0.0,0.9894736842105263,0.8210526315789474,0.8315789473684211,0.8210526315789474,0.8736842105263157,0.7789473684210526,0.7684210526315789,0.8105263157894737,0.968421052631579,0.8210526315789474,0.9263157894736842,0.8210526315789474,0.0,0.0,0.8210526315789474,0.8736842105263157,0.0,0.8210526315789474,0.8736842105263157,0.9052631578947368,0.8736842105263157,0.7578947368421053,0.0,0.7263157894736842,0.0,0.8210526315789474,0.0,0.7894736842105263,0.8105263157894737,0.9473684210526315,0.8842105263157894,0.8210526315789474,0.0,0.0,0.9473684210526315,0.8210526315789474,0.8210526315789474,0.0,0.8105263157894737,0.0,0.0,0.0,0.0,0.0,0.0,0.0,0.0,0.8736842105263157],\"z\":[0.9285714285714285,0.9387755102040816,0.9081632653061223,0.0,0.9285714285714285,0.8979591836734693,0.9183673469387754,0.0,0.846938775510204,0.0,0.9693877551020408,0.9183673469387754,0.0,0.0,0.9489795918367346,0.9183673469387754,0.0,0.9591836734693877,0.9081632653061223,0.9183673469387754,0.9081632653061223,0.9285714285714285,0.9183673469387754,0.9183673469387754,0.9285714285714285,0.9591836734693877,0.0,0.9285714285714285,0.9285714285714285,0.0,0.0,0.9285714285714285,0.9081632653061223,0.9183673469387754,0.9387755102040816,0.9081632653061223,0.0,0.0,0.0,0.9489795918367346,0.9387755102040816,0.8979591836734693,0.9387755102040816,0.9387755102040816,0.9183673469387754,0.9183673469387754,0.846938775510204,0.4591836734693877,0.0,0.9285714285714285,0.9285714285714285,0.0,0.9591836734693877,0.9285714285714285,0.9489795918367346,0.0,0.9081632653061223,0.9285714285714285,0.846938775510204,0.9081632653061223,0.9183673469387754,0.0,0.0,0.9081632653061223,0.9183673469387754,0.9591836734693877,0.0,0.673469387755102,0.9489795918367346,0.7755102040816326,0.7142857142857142,0.0,0.0,0.9285714285714285,0.9183673469387754,0.9285714285714285,0.0,0.673469387755102,0.7551020408163265,0.9693877551020408,0.9285714285714285,0.9285714285714285,0.0,0.9081632653061223,0.0,0.0,0.8979591836734693,0.49999999999999994,0.9285714285714285,0.0,0.9183673469387754,0.9081632653061223,0.9489795918367346,0.9285714285714285,0.9387755102040816,0.0,0.8979591836734693,0.7244897959183673,0.0,0.9489795918367346,0.9285714285714285,0.9591836734693877,0.9285714285714285,0.8775510204081632,0.0,0.9285714285714285,0.9387755102040816,0.9693877551020408,0.9387755102040816,0.0,0.9285714285714285,0.0,0.9489795918367346,0.9285714285714285,0.0,0.8877551020408162,0.7448979591836734,0.9489795918367346,0.8877551020408162,0.0,0.9591836734693877,0.8775510204081632,0.8979591836734693,0.9183673469387754,0.0,0.8979591836734693,0.9795918367346939,0.0,0.9489795918367346,0.0,0.9387755102040816,0.8775510204081632,0.0,0.0,0.9387755102040816,0.9387755102040816,0.9387755102040816,0.0,0.9081632653061223,0.0,0.9795918367346939,0.9081632653061223,0.9081632653061223,0.9081632653061223,0.9183673469387754,0.8979591836734693,0.9387755102040816,0.0,0.9591836734693877,0.0,0.0,0.6530612244897959,0.8775510204081632,0.9285714285714285,0.8775510204081632,0.9387755102040816,0.9693877551020408,0.9285714285714285,0.8979591836734693,0.9081632653061223,0.8877551020408162,0.9081632653061223,0.9591836734693877,0.0,0.9591836734693877,0.9081632653061223,0.0,0.9591836734693877,0.9183673469387754,0.9285714285714285,0.0,0.9489795918367346,0.8979591836734693,0.9183673469387754,0.9081632653061223,0.9285714285714285,0.9591836734693877,0.9489795918367346,0.0,0.9387755102040816,0.0,0.0,0.0,0.0,0.9285714285714285,0.9183673469387754,0.9285714285714285,0.9183673469387754,0.0,0.5612244897959183,0.0,0.9081632653061223,0.9081632653061223,0.9285714285714285,0.8979591836734693,0.8673469387755102,0.8571428571428571,0.0,0.9489795918367346,0.9387755102040816,0.9081632653061223,0.8979591836734693,0.9489795918367346,0.0,0.9897959183673468,0.8979591836734693,0.0,0.0,0.9081632653061223,0.9081632653061223,0.9081632653061223,0.9387755102040816,0.8979591836734693,0.9183673469387754,0.0,0.9591836734693877,0.8877551020408162,0.8673469387755102,0.9591836734693877,0.9387755102040816,0.9285714285714285,0.8775510204081632,0.9489795918367346,0.9999999999999999,0.0,0.0,0.0,0.9387755102040816,0.8979591836734693,0.0,0.9183673469387754,0.0,0.0,0.9183673469387754,0.9183673469387754,0.9387755102040816,0.8775510204081632,0.8673469387755102,0.9183673469387754,0.9183673469387754,0.9183673469387754,0.9285714285714285,0.0,0.0,0.8877551020408162,0.0,0.0,0.0,0.9489795918367346,0.9285714285714285,0.0,0.8775510204081632,0.0,0.0,0.9285714285714285,0.9285714285714285,0.9387755102040816,0.0,0.9489795918367346,0.9183673469387754,0.9081632653061223,0.0,0.9285714285714285,0.9081632653061223,0.0,0.9183673469387754,0.0,0.9285714285714285,0.8265306122448979,0.9081632653061223,0.0,0.8979591836734693,0.0,0.9387755102040816,0.9285714285714285,0.8979591836734693,0.0,0.9489795918367346,0.9183673469387754,0.8775510204081632,0.0,0.0,0.9489795918367346,0.0,0.9387755102040816,0.0,0.9081632653061223,0.8265306122448979,0.0,0.0,0.8979591836734693,0.0,0.0,0.0,0.0,0.9081632653061223],\"type\":\"scatter3d\"}],                        {\"height\":800,\"margin\":{\"l\":0,\"r\":0},\"scene\":{\"xaxis\":{\"title\":{\"text\":\"sepal_length -->\"}},\"yaxis\":{\"title\":{\"text\":\"sepal_width--->\"}},\"zaxis\":{\"title\":{\"text\":\"petal_length-->\"}}},\"width\":800,\"template\":{\"data\":{\"histogram2dcontour\":[{\"type\":\"histogram2dcontour\",\"colorbar\":{\"outlinewidth\":0,\"ticks\":\"\"},\"colorscale\":[[0.0,\"#0d0887\"],[0.1111111111111111,\"#46039f\"],[0.2222222222222222,\"#7201a8\"],[0.3333333333333333,\"#9c179e\"],[0.4444444444444444,\"#bd3786\"],[0.5555555555555556,\"#d8576b\"],[0.6666666666666666,\"#ed7953\"],[0.7777777777777778,\"#fb9f3a\"],[0.8888888888888888,\"#fdca26\"],[1.0,\"#f0f921\"]]}],\"choropleth\":[{\"type\":\"choropleth\",\"colorbar\":{\"outlinewidth\":0,\"ticks\":\"\"}}],\"histogram2d\":[{\"type\":\"histogram2d\",\"colorbar\":{\"outlinewidth\":0,\"ticks\":\"\"},\"colorscale\":[[0.0,\"#0d0887\"],[0.1111111111111111,\"#46039f\"],[0.2222222222222222,\"#7201a8\"],[0.3333333333333333,\"#9c179e\"],[0.4444444444444444,\"#bd3786\"],[0.5555555555555556,\"#d8576b\"],[0.6666666666666666,\"#ed7953\"],[0.7777777777777778,\"#fb9f3a\"],[0.8888888888888888,\"#fdca26\"],[1.0,\"#f0f921\"]]}],\"heatmap\":[{\"type\":\"heatmap\",\"colorbar\":{\"outlinewidth\":0,\"ticks\":\"\"},\"colorscale\":[[0.0,\"#0d0887\"],[0.1111111111111111,\"#46039f\"],[0.2222222222222222,\"#7201a8\"],[0.3333333333333333,\"#9c179e\"],[0.4444444444444444,\"#bd3786\"],[0.5555555555555556,\"#d8576b\"],[0.6666666666666666,\"#ed7953\"],[0.7777777777777778,\"#fb9f3a\"],[0.8888888888888888,\"#fdca26\"],[1.0,\"#f0f921\"]]}],\"heatmapgl\":[{\"type\":\"heatmapgl\",\"colorbar\":{\"outlinewidth\":0,\"ticks\":\"\"},\"colorscale\":[[0.0,\"#0d0887\"],[0.1111111111111111,\"#46039f\"],[0.2222222222222222,\"#7201a8\"],[0.3333333333333333,\"#9c179e\"],[0.4444444444444444,\"#bd3786\"],[0.5555555555555556,\"#d8576b\"],[0.6666666666666666,\"#ed7953\"],[0.7777777777777778,\"#fb9f3a\"],[0.8888888888888888,\"#fdca26\"],[1.0,\"#f0f921\"]]}],\"contourcarpet\":[{\"type\":\"contourcarpet\",\"colorbar\":{\"outlinewidth\":0,\"ticks\":\"\"}}],\"contour\":[{\"type\":\"contour\",\"colorbar\":{\"outlinewidth\":0,\"ticks\":\"\"},\"colorscale\":[[0.0,\"#0d0887\"],[0.1111111111111111,\"#46039f\"],[0.2222222222222222,\"#7201a8\"],[0.3333333333333333,\"#9c179e\"],[0.4444444444444444,\"#bd3786\"],[0.5555555555555556,\"#d8576b\"],[0.6666666666666666,\"#ed7953\"],[0.7777777777777778,\"#fb9f3a\"],[0.8888888888888888,\"#fdca26\"],[1.0,\"#f0f921\"]]}],\"surface\":[{\"type\":\"surface\",\"colorbar\":{\"outlinewidth\":0,\"ticks\":\"\"},\"colorscale\":[[0.0,\"#0d0887\"],[0.1111111111111111,\"#46039f\"],[0.2222222222222222,\"#7201a8\"],[0.3333333333333333,\"#9c179e\"],[0.4444444444444444,\"#bd3786\"],[0.5555555555555556,\"#d8576b\"],[0.6666666666666666,\"#ed7953\"],[0.7777777777777778,\"#fb9f3a\"],[0.8888888888888888,\"#fdca26\"],[1.0,\"#f0f921\"]]}],\"mesh3d\":[{\"type\":\"mesh3d\",\"colorbar\":{\"outlinewidth\":0,\"ticks\":\"\"}}],\"scatter\":[{\"fillpattern\":{\"fillmode\":\"overlay\",\"size\":10,\"solidity\":0.2},\"type\":\"scatter\"}],\"parcoords\":[{\"type\":\"parcoords\",\"line\":{\"colorbar\":{\"outlinewidth\":0,\"ticks\":\"\"}}}],\"scatterpolargl\":[{\"type\":\"scatterpolargl\",\"marker\":{\"colorbar\":{\"outlinewidth\":0,\"ticks\":\"\"}}}],\"bar\":[{\"error_x\":{\"color\":\"#2a3f5f\"},\"error_y\":{\"color\":\"#2a3f5f\"},\"marker\":{\"line\":{\"color\":\"#E5ECF6\",\"width\":0.5},\"pattern\":{\"fillmode\":\"overlay\",\"size\":10,\"solidity\":0.2}},\"type\":\"bar\"}],\"scattergeo\":[{\"type\":\"scattergeo\",\"marker\":{\"colorbar\":{\"outlinewidth\":0,\"ticks\":\"\"}}}],\"scatterpolar\":[{\"type\":\"scatterpolar\",\"marker\":{\"colorbar\":{\"outlinewidth\":0,\"ticks\":\"\"}}}],\"histogram\":[{\"marker\":{\"pattern\":{\"fillmode\":\"overlay\",\"size\":10,\"solidity\":0.2}},\"type\":\"histogram\"}],\"scattergl\":[{\"type\":\"scattergl\",\"marker\":{\"colorbar\":{\"outlinewidth\":0,\"ticks\":\"\"}}}],\"scatter3d\":[{\"type\":\"scatter3d\",\"line\":{\"colorbar\":{\"outlinewidth\":0,\"ticks\":\"\"}},\"marker\":{\"colorbar\":{\"outlinewidth\":0,\"ticks\":\"\"}}}],\"scattermapbox\":[{\"type\":\"scattermapbox\",\"marker\":{\"colorbar\":{\"outlinewidth\":0,\"ticks\":\"\"}}}],\"scatterternary\":[{\"type\":\"scatterternary\",\"marker\":{\"colorbar\":{\"outlinewidth\":0,\"ticks\":\"\"}}}],\"scattercarpet\":[{\"type\":\"scattercarpet\",\"marker\":{\"colorbar\":{\"outlinewidth\":0,\"ticks\":\"\"}}}],\"carpet\":[{\"aaxis\":{\"endlinecolor\":\"#2a3f5f\",\"gridcolor\":\"white\",\"linecolor\":\"white\",\"minorgridcolor\":\"white\",\"startlinecolor\":\"#2a3f5f\"},\"baxis\":{\"endlinecolor\":\"#2a3f5f\",\"gridcolor\":\"white\",\"linecolor\":\"white\",\"minorgridcolor\":\"white\",\"startlinecolor\":\"#2a3f5f\"},\"type\":\"carpet\"}],\"table\":[{\"cells\":{\"fill\":{\"color\":\"#EBF0F8\"},\"line\":{\"color\":\"white\"}},\"header\":{\"fill\":{\"color\":\"#C8D4E3\"},\"line\":{\"color\":\"white\"}},\"type\":\"table\"}],\"barpolar\":[{\"marker\":{\"line\":{\"color\":\"#E5ECF6\",\"width\":0.5},\"pattern\":{\"fillmode\":\"overlay\",\"size\":10,\"solidity\":0.2}},\"type\":\"barpolar\"}],\"pie\":[{\"automargin\":true,\"type\":\"pie\"}]},\"layout\":{\"autotypenumbers\":\"strict\",\"colorway\":[\"#636efa\",\"#EF553B\",\"#00cc96\",\"#ab63fa\",\"#FFA15A\",\"#19d3f3\",\"#FF6692\",\"#B6E880\",\"#FF97FF\",\"#FECB52\"],\"font\":{\"color\":\"#2a3f5f\"},\"hovermode\":\"closest\",\"hoverlabel\":{\"align\":\"left\"},\"paper_bgcolor\":\"white\",\"plot_bgcolor\":\"#E5ECF6\",\"polar\":{\"bgcolor\":\"#E5ECF6\",\"angularaxis\":{\"gridcolor\":\"white\",\"linecolor\":\"white\",\"ticks\":\"\"},\"radialaxis\":{\"gridcolor\":\"white\",\"linecolor\":\"white\",\"ticks\":\"\"}},\"ternary\":{\"bgcolor\":\"#E5ECF6\",\"aaxis\":{\"gridcolor\":\"white\",\"linecolor\":\"white\",\"ticks\":\"\"},\"baxis\":{\"gridcolor\":\"white\",\"linecolor\":\"white\",\"ticks\":\"\"},\"caxis\":{\"gridcolor\":\"white\",\"linecolor\":\"white\",\"ticks\":\"\"}},\"coloraxis\":{\"colorbar\":{\"outlinewidth\":0,\"ticks\":\"\"}},\"colorscale\":{\"sequential\":[[0.0,\"#0d0887\"],[0.1111111111111111,\"#46039f\"],[0.2222222222222222,\"#7201a8\"],[0.3333333333333333,\"#9c179e\"],[0.4444444444444444,\"#bd3786\"],[0.5555555555555556,\"#d8576b\"],[0.6666666666666666,\"#ed7953\"],[0.7777777777777778,\"#fb9f3a\"],[0.8888888888888888,\"#fdca26\"],[1.0,\"#f0f921\"]],\"sequentialminus\":[[0.0,\"#0d0887\"],[0.1111111111111111,\"#46039f\"],[0.2222222222222222,\"#7201a8\"],[0.3333333333333333,\"#9c179e\"],[0.4444444444444444,\"#bd3786\"],[0.5555555555555556,\"#d8576b\"],[0.6666666666666666,\"#ed7953\"],[0.7777777777777778,\"#fb9f3a\"],[0.8888888888888888,\"#fdca26\"],[1.0,\"#f0f921\"]],\"diverging\":[[0,\"#8e0152\"],[0.1,\"#c51b7d\"],[0.2,\"#de77ae\"],[0.3,\"#f1b6da\"],[0.4,\"#fde0ef\"],[0.5,\"#f7f7f7\"],[0.6,\"#e6f5d0\"],[0.7,\"#b8e186\"],[0.8,\"#7fbc41\"],[0.9,\"#4d9221\"],[1,\"#276419\"]]},\"xaxis\":{\"gridcolor\":\"white\",\"linecolor\":\"white\",\"ticks\":\"\",\"title\":{\"standoff\":15},\"zerolinecolor\":\"white\",\"automargin\":true,\"zerolinewidth\":2},\"yaxis\":{\"gridcolor\":\"white\",\"linecolor\":\"white\",\"ticks\":\"\",\"title\":{\"standoff\":15},\"zerolinecolor\":\"white\",\"automargin\":true,\"zerolinewidth\":2},\"scene\":{\"xaxis\":{\"backgroundcolor\":\"#E5ECF6\",\"gridcolor\":\"white\",\"linecolor\":\"white\",\"showbackground\":true,\"ticks\":\"\",\"zerolinecolor\":\"white\",\"gridwidth\":2},\"yaxis\":{\"backgroundcolor\":\"#E5ECF6\",\"gridcolor\":\"white\",\"linecolor\":\"white\",\"showbackground\":true,\"ticks\":\"\",\"zerolinecolor\":\"white\",\"gridwidth\":2},\"zaxis\":{\"backgroundcolor\":\"#E5ECF6\",\"gridcolor\":\"white\",\"linecolor\":\"white\",\"showbackground\":true,\"ticks\":\"\",\"zerolinecolor\":\"white\",\"gridwidth\":2}},\"shapedefaults\":{\"line\":{\"color\":\"#2a3f5f\"}},\"annotationdefaults\":{\"arrowcolor\":\"#2a3f5f\",\"arrowhead\":0,\"arrowwidth\":1},\"geo\":{\"bgcolor\":\"white\",\"landcolor\":\"#E5ECF6\",\"subunitcolor\":\"white\",\"showland\":true,\"showlakes\":true,\"lakecolor\":\"white\"},\"title\":{\"x\":0.05},\"mapbox\":{\"style\":\"light\"}}}},                        {\"responsive\": true}                    ).then(function(){\n",
       "                            \n",
       "var gd = document.getElementById('d9bd2e1b-825c-41dd-a303-eaf2eefd5f70');\n",
       "var x = new MutationObserver(function (mutations, observer) {{\n",
       "        var display = window.getComputedStyle(gd).display;\n",
       "        if (!display || display === 'none') {{\n",
       "            console.log([gd, 'removed!']);\n",
       "            Plotly.purge(gd);\n",
       "            observer.disconnect();\n",
       "        }}\n",
       "}});\n",
       "\n",
       "// Listen for the removal of the full notebook cells\n",
       "var notebookContainer = gd.closest('#notebook-container');\n",
       "if (notebookContainer) {{\n",
       "    x.observe(notebookContainer, {childList: true});\n",
       "}}\n",
       "\n",
       "// Listen for the clearing of the current output cell\n",
       "var outputEl = gd.closest('.output');\n",
       "if (outputEl) {{\n",
       "    x.observe(outputEl, {childList: true});\n",
       "}}\n",
       "\n",
       "                        })                };                });            </script>        </div>"
      ]
     },
     "metadata": {},
     "output_type": "display_data"
    }
   ],
   "source": [
    "# visualize the clusters\n",
    "!pip install plotly==5.14.1\n",
    "import plotly.graph_objects as go  #for 3D plot\n",
    "\n",
    "## K-means using k = 4\n",
    "kmeans = KMeans(n_clusters= 4)\n",
    "kmeans.fit(df3)\n",
    "y_kmeans = kmeans.predict(df3)\n",
    "\n",
    "## 3D plot \n",
    "Scene = dict(xaxis = dict(title  = 'sepal_length -->'),yaxis = dict(title  = 'sepal_width--->'),zaxis = dict(title  = 'petal_length-->'))\n",
    "\n",
    "labels = kmeans.labels_\n",
    "trace = go.Scatter3d(x=df3[:, 0], y=df3[:, 1], z=df3[:, 2], mode='markers',marker=dict(color = labels, size= 10, line=dict(color= 'black',width = 10)))\n",
    "layout = go.Layout(margin=dict(l=0,r=0),scene = Scene,height = 800,width = 800)\n",
    "data = [trace]\n",
    "fig = go.Figure(data = data, layout = layout)\n",
    "fig.show()"
   ]
  },
  {
   "cell_type": "code",
   "execution_count": 161,
   "id": "36b69444",
   "metadata": {},
   "outputs": [
    {
     "name": "stdout",
     "output_type": "stream",
     "text": [
      "0    165\n",
      "1     50\n",
      "3     43\n",
      "2     38\n",
      "Name: segment, dtype: int64\n",
      "\n",
      " 1    165\n",
      "0    131\n",
      "Name: Binary segment 0, dtype: int64\n"
     ]
    }
   ],
   "source": [
    "print(df2['segment'].value_counts())\n",
    "df2['Binary segment 0'] = df2['segment'].map({0:1, 1:0, 2:0, 3:0})\n",
    "print(\"\\n\", df2['Binary segment 0'].value_counts())"
   ]
  },
  {
   "cell_type": "code",
   "execution_count": 162,
   "id": "ccacbbc8",
   "metadata": {},
   "outputs": [],
   "source": [
    "# Train a classifier\n",
    "\n",
    "df2.dropna(inplace=True)\n",
    "df4 = df2.drop(columns = ['segment', 'Binary segment 0'])\n",
    "df5 = scaler.fit_transform(df4)\n",
    "\n",
    "df5 = pd.DataFrame(df5, columns=df4.columns)\n"
   ]
  },
  {
   "cell_type": "code",
   "execution_count": 163,
   "id": "642301d0",
   "metadata": {},
   "outputs": [
    {
     "data": {
      "text/plain": [
       "[('StandardizedTestWaived(ReaderIndicator)', 0.2503913805082538),\n",
       " ('IntentToEnroll_UnSure', 0.21033107323057987),\n",
       " ('Analytical_Score', 0.19999060460284512),\n",
       " ('IntentToEnroll_Determined', 0.19336270577854595),\n",
       " ('Events_Registered', 0.037774606548666115),\n",
       " ('English_Score', 0.027171285165422613),\n",
       " ('UGDegreeConvertedGPA', 0.018333619003003024),\n",
       " ('Ping-TotalCount', 0.015348108703171333),\n",
       " ('PrimaryCitizenship_India', 0.013022219038962415),\n",
       " ('Events_Attended', 0.01134214585695078),\n",
       " ('Grades_CumulativeGPA', 0.009476823000326455),\n",
       " ('PrimaryCitizenship_United States', 0.008074041637713922),\n",
       " ('Sex_M', 0.002464448730360999),\n",
       " ('PrimaryCitizenship_Nigeria', 0.0014525792359517654),\n",
       " ('PrimaryCitizenship_Taiwan', 0.0007622209310871394),\n",
       " ('PrimaryCitizenship_Jordan', 0.0003335336989285127),\n",
       " ('PrimaryCitizenship_South Korea', 0.00019606433132149167),\n",
       " ('PrimaryCitizenship_Vietnam', 0.00017253999790860575)]"
      ]
     },
     "execution_count": 163,
     "metadata": {},
     "output_type": "execute_result"
    }
   ],
   "source": [
    "clf = RandomForestClassifier(random_state=1)\n",
    "clf.fit(df5.values, df2[\"Binary segment 0\"].values)\n",
    "\n",
    "# Index sort the most important features\n",
    "sorted_feature_weight_idxes = np.argsort(clf.feature_importances_)[::-1] # Reverse sort\n",
    "\n",
    "# Get the most important features names and weights\n",
    "most_important_features = np.take_along_axis(\n",
    "    np.array(df5.iloc[:, :].columns.tolist()), \n",
    "    sorted_feature_weight_idxes, axis=0)\n",
    "most_important_weights = np.take_along_axis(\n",
    "    np.array(clf.feature_importances_), \n",
    "    sorted_feature_weight_idxes, axis=0)\n",
    "\n",
    "# Show\n",
    "list(zip(most_important_features, most_important_weights))"
   ]
  },
  {
   "cell_type": "code",
   "execution_count": 120,
   "id": "de729ba1",
   "metadata": {},
   "outputs": [
    {
     "name": "stdout",
     "output_type": "stream",
     "text": [
      "0    165\n",
      "1     50\n",
      "3     43\n",
      "2     38\n",
      "Name: segment, dtype: int64\n",
      "\n",
      " 0    246\n",
      "1     50\n",
      "Name: Binary segment 0, dtype: int64\n"
     ]
    }
   ],
   "source": [
    "print(df2['segment'].value_counts())\n",
    "df2['Binary segment 0'] = df2['segment'].map({0:0, 1:1, 2:0, 3:0})\n",
    "print(\"\\n\", df2['Binary segment 0'].value_counts())"
   ]
  },
  {
   "cell_type": "code",
   "execution_count": 121,
   "id": "63058948",
   "metadata": {},
   "outputs": [],
   "source": [
    "# Train a classifier\n",
    "\n",
    "df2.dropna(inplace=True)\n",
    "df4 = df2.drop(columns = ['segment', 'Binary segment 0'])\n",
    "df5 = scaler.fit_transform(df4)\n",
    "\n",
    "df5 = pd.DataFrame(df5, columns=df4.columns)"
   ]
  },
  {
   "cell_type": "code",
   "execution_count": 122,
   "id": "2522849b",
   "metadata": {},
   "outputs": [
    {
     "data": {
      "text/plain": [
       "[('PrimaryCitizenship_India', 0.2654540036641851),\n",
       " ('PrimaryCitizenship_United States', 0.2077173661267949),\n",
       " ('English_Score', 0.15287525226675072),\n",
       " ('Events_Registered', 0.15218644872757184),\n",
       " ('IntentToEnroll_UnSure', 0.040350198632459776),\n",
       " ('StandardizedTestWaived(ReaderIndicator)', 0.03899488031859776),\n",
       " ('Analytical_Score', 0.03331008320527965),\n",
       " ('UGDegreeConvertedGPA', 0.02919449157383465),\n",
       " ('Events_Attended', 0.02257494839254053),\n",
       " ('IntentToEnroll_Determined', 0.01921971327397614),\n",
       " ('Grades_CumulativeGPA', 0.011896660071942868),\n",
       " ('Ping-TotalCount', 0.010405770274300698),\n",
       " ('PrimaryCitizenship_Vietnam', 0.008895984195520814),\n",
       " ('PrimaryCitizenship_Nigeria', 0.002747717059189733),\n",
       " ('Sex_M', 0.001617917628722259),\n",
       " ('PrimaryCitizenship_South Korea', 0.0014060507493752932),\n",
       " ('PrimaryCitizenship_Jordan', 0.0008036134425885019),\n",
       " ('PrimaryCitizenship_Taiwan', 0.00034890039636875083)]"
      ]
     },
     "execution_count": 122,
     "metadata": {},
     "output_type": "execute_result"
    }
   ],
   "source": [
    "clf = RandomForestClassifier(random_state=1)\n",
    "clf.fit(df5.values, df2[\"Binary segment 0\"].values)\n",
    "\n",
    "# Index sort the most important features\n",
    "sorted_feature_weight_idxes = np.argsort(clf.feature_importances_)[::-1] # Reverse sort\n",
    "\n",
    "# Get the most important features names and weights\n",
    "most_important_features = np.take_along_axis(\n",
    "    np.array(df5.iloc[:, :].columns.tolist()), \n",
    "    sorted_feature_weight_idxes, axis=0)\n",
    "most_important_weights = np.take_along_axis(\n",
    "    np.array(clf.feature_importances_), \n",
    "    sorted_feature_weight_idxes, axis=0)\n",
    "\n",
    "# Show\n",
    "list(zip(most_important_features, most_important_weights))"
   ]
  },
  {
   "cell_type": "code",
   "execution_count": 123,
   "id": "f3700c34",
   "metadata": {},
   "outputs": [
    {
     "name": "stdout",
     "output_type": "stream",
     "text": [
      "0    165\n",
      "1     50\n",
      "3     43\n",
      "2     38\n",
      "Name: segment, dtype: int64\n",
      "\n",
      " 0    258\n",
      "1     38\n",
      "Name: Binary segment 0, dtype: int64\n"
     ]
    }
   ],
   "source": [
    "print(df2['segment'].value_counts())\n",
    "df2['Binary segment 0'] = df2['segment'].map({0:0, 1:0, 2:1, 3:0})\n",
    "print(\"\\n\", df2['Binary segment 0'].value_counts())"
   ]
  },
  {
   "cell_type": "code",
   "execution_count": 124,
   "id": "0f0ecebe",
   "metadata": {},
   "outputs": [],
   "source": [
    "# Train a classifier\n",
    "\n",
    "df2.dropna(inplace=True)\n",
    "df4 = df2.drop(columns = ['segment', 'Binary segment 0'])\n",
    "df5 = scaler.fit_transform(df4)\n",
    "\n",
    "df5 = pd.DataFrame(df5, columns=df4.columns)"
   ]
  },
  {
   "cell_type": "code",
   "execution_count": 125,
   "id": "41f2ee06",
   "metadata": {},
   "outputs": [
    {
     "data": {
      "text/plain": [
       "[('StandardizedTestWaived(ReaderIndicator)', 0.2703290299144927),\n",
       " ('Analytical_Score', 0.1786592785555674),\n",
       " ('IntentToEnroll_UnSure', 0.11025378841056316),\n",
       " ('PrimaryCitizenship_India', 0.0936719480156845),\n",
       " ('IntentToEnroll_Determined', 0.08312212542839159),\n",
       " ('Events_Registered', 0.05961448685144562),\n",
       " ('English_Score', 0.04748480608049397),\n",
       " ('Ping-TotalCount', 0.03656705134543259),\n",
       " ('UGDegreeConvertedGPA', 0.03587234051759756),\n",
       " ('PrimaryCitizenship_United States', 0.030069564346779872),\n",
       " ('Events_Attended', 0.027979211345135275),\n",
       " ('Grades_CumulativeGPA', 0.023644474130894533),\n",
       " ('Sex_M', 0.0019352531810208561),\n",
       " ('PrimaryCitizenship_Vietnam', 0.00065140236930117),\n",
       " ('PrimaryCitizenship_South Korea', 0.00014523950719917412),\n",
       " ('PrimaryCitizenship_Jordan', 0.0),\n",
       " ('PrimaryCitizenship_Nigeria', 0.0),\n",
       " ('PrimaryCitizenship_Taiwan', 0.0)]"
      ]
     },
     "execution_count": 125,
     "metadata": {},
     "output_type": "execute_result"
    }
   ],
   "source": [
    "clf = RandomForestClassifier(random_state=1)\n",
    "clf.fit(df5.values, df2[\"Binary segment 0\"].values)\n",
    "\n",
    "# Index sort the most important features\n",
    "sorted_feature_weight_idxes = np.argsort(clf.feature_importances_)[::-1] # Reverse sort\n",
    "\n",
    "# Get the most important features names and weights\n",
    "most_important_features = np.take_along_axis(\n",
    "    np.array(df5.iloc[:, :].columns.tolist()), \n",
    "    sorted_feature_weight_idxes, axis=0)\n",
    "most_important_weights = np.take_along_axis(\n",
    "    np.array(clf.feature_importances_), \n",
    "    sorted_feature_weight_idxes, axis=0)\n",
    "\n",
    "# Show\n",
    "list(zip(most_important_features, most_important_weights))"
   ]
  },
  {
   "cell_type": "code",
   "execution_count": 126,
   "id": "d4938a47",
   "metadata": {},
   "outputs": [
    {
     "name": "stdout",
     "output_type": "stream",
     "text": [
      "0    165\n",
      "1     50\n",
      "3     43\n",
      "2     38\n",
      "Name: segment, dtype: int64\n",
      "\n",
      " 0    253\n",
      "1     43\n",
      "Name: Binary segment 0, dtype: int64\n"
     ]
    }
   ],
   "source": [
    "print(df2['segment'].value_counts())\n",
    "df2['Binary segment 0'] = df2['segment'].map({0:0, 1:0, 2:0, 3:1})\n",
    "print(\"\\n\", df2['Binary segment 0'].value_counts())"
   ]
  },
  {
   "cell_type": "code",
   "execution_count": 127,
   "id": "cb240b30",
   "metadata": {},
   "outputs": [],
   "source": [
    "# Train a classifier\n",
    "\n",
    "df2.dropna(inplace=True)\n",
    "df4 = df2.drop(columns = ['segment', 'Binary segment 0'])\n",
    "df5 = scaler.fit_transform(df4)\n",
    "\n",
    "df5 = pd.DataFrame(df5, columns=df4.columns)"
   ]
  },
  {
   "cell_type": "code",
   "execution_count": 128,
   "id": "86bd70a6",
   "metadata": {},
   "outputs": [
    {
     "data": {
      "text/plain": [
       "[('IntentToEnroll_UnSure', 0.3139513362472458),\n",
       " ('IntentToEnroll_Determined', 0.2216820007203053),\n",
       " ('English_Score', 0.1167670468539093),\n",
       " ('PrimaryCitizenship_India', 0.08864372553635481),\n",
       " ('Events_Registered', 0.05569635170542247),\n",
       " ('PrimaryCitizenship_United States', 0.05109162249729595),\n",
       " ('UGDegreeConvertedGPA', 0.037860645776595925),\n",
       " ('Events_Attended', 0.026704937340974774),\n",
       " ('Analytical_Score', 0.02660938795837804),\n",
       " ('Ping-TotalCount', 0.02240829512220114),\n",
       " ('Grades_CumulativeGPA', 0.015543028568294412),\n",
       " ('StandardizedTestWaived(ReaderIndicator)', 0.011111828050022154),\n",
       " ('PrimaryCitizenship_South Korea', 0.006711380315617061),\n",
       " ('Sex_M', 0.003423522293497496),\n",
       " ('PrimaryCitizenship_Vietnam', 0.001794891013885346),\n",
       " ('PrimaryCitizenship_Jordan', 0.0),\n",
       " ('PrimaryCitizenship_Nigeria', 0.0),\n",
       " ('PrimaryCitizenship_Taiwan', 0.0)]"
      ]
     },
     "execution_count": 128,
     "metadata": {},
     "output_type": "execute_result"
    }
   ],
   "source": [
    "clf = RandomForestClassifier(random_state=1)\n",
    "clf.fit(df5.values, df2[\"Binary segment 0\"].values)\n",
    "\n",
    "# Index sort the most important features\n",
    "sorted_feature_weight_idxes = np.argsort(clf.feature_importances_)[::-1] # Reverse sort\n",
    "\n",
    "# Get the most important features names and weights\n",
    "most_important_features = np.take_along_axis(\n",
    "    np.array(df5.iloc[:, :].columns.tolist()), \n",
    "    sorted_feature_weight_idxes, axis=0)\n",
    "most_important_weights = np.take_along_axis(\n",
    "    np.array(clf.feature_importances_), \n",
    "    sorted_feature_weight_idxes, axis=0)\n",
    "\n",
    "# Show\n",
    "list(zip(most_important_features, most_important_weights))"
   ]
  }
 ],
 "metadata": {
  "kernelspec": {
   "display_name": "Python 3 (ipykernel)",
   "language": "python",
   "name": "python3"
  },
  "language_info": {
   "codemirror_mode": {
    "name": "ipython",
    "version": 3
   },
   "file_extension": ".py",
   "mimetype": "text/x-python",
   "name": "python",
   "nbconvert_exporter": "python",
   "pygments_lexer": "ipython3",
   "version": "3.9.7"
  }
 },
 "nbformat": 4,
 "nbformat_minor": 5
}
